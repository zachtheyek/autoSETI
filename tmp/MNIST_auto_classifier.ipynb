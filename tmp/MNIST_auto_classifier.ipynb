{
  "cells": [
    {
      "cell_type": "markdown",
      "source": [
        "Note: this tutorial assumes basic knowledge of deep learning techniques. For an introduction into the subject, I recommend [3Blue1Brown's series](https://youtube.com/playlist?list=PLZHQObOWTQDNU6R1_67000Dx_ZCJB-3pi) on Neural Networks and Deep Learning. "
      ],
      "metadata": {
        "id": "yZcjAHA0_nZ7"
      }
    },
    {
      "cell_type": "code",
      "execution_count": 1,
      "source": [
        "%matplotlib inline"
      ],
      "outputs": [],
      "metadata": {
        "id": "ttH1rgUyIwX2"
      }
    },
    {
      "cell_type": "markdown",
      "source": [
        "# Introduction to Autoencoders\n",
        "\n",
        "Autoencoders are a type of feedforward artificial neural network (hereafter ANN) that attempt to reconstruct some input features $\\vec{x}$ after first compressing it into a latent-space representation. In doing so, the Autoencoder learns the data representation in lower-dimensional space by extracting the most salient features of the data, ignoring insignificant noise, while minimizing the reconstruction error. Naturally, this has applications in dimensionality reduction, anomaly detection, image noise reduction, etc. Since Autoencoders can be trained on unlabeled data, it is a form of unsupervised learning. \n",
        "\n",
        "For further information on Autoencoders, see [Arden Dertat's article](https://towardsdatascience.com/applied-deep-learning-part-3-autoencoders-1c083af4d798). \n"
      ],
      "metadata": {
        "id": "0uPzAxYsR4cL"
      }
    },
    {
      "cell_type": "markdown",
      "source": [
        "An Autoencoder is comprised of 3 components: encoder, code, decoder; the encoder and decoder are themselves fully-connected feedforward ANNs, where usually (but not always) the structure of the decoder is a mirror image of the encoder. Accordingly, the code is simply a single layer of an ANN that holds the information needed to reconstruct the original input. \n",
        "\n",
        "In this tutorial, we'll attempt to build an Autoencoder model ourselves. Note that we shall mainly be using [PyTorch](https://pytorch.org/), though other libraries (e.g. [Keras](https://keras.io/) or [TensorFlow](https://www.tensorflow.org/)) are equally valid."
      ],
      "metadata": {
        "id": "rttEPHedyyCc"
      }
    },
    {
      "cell_type": "markdown",
      "source": [
        "# Import Libraries and Set Hyperparameters\n",
        "\n",
        "First, we import PyTorch, as well as our other dependencies."
      ],
      "metadata": {
        "id": "kNQMdCLyCDRl"
      }
    },
    {
      "cell_type": "code",
      "execution_count": 2,
      "source": [
        "import numpy as np\n",
        "import matplotlib.pyplot as plt\n",
        "\n",
        "import torch\n",
        "import torch.nn as nn\n",
        "import torch.optim as optim\n",
        "import torchvision"
      ],
      "outputs": [],
      "metadata": {
        "id": "wH7iARK5CKRJ"
      }
    },
    {
      "cell_type": "markdown",
      "source": [
        "Next, we set the hyperparameters, namely, the batch size, number of training epochs, and the learning rate."
      ],
      "metadata": {
        "id": "T2Dib_IFCkIV"
      }
    },
    {
      "cell_type": "code",
      "execution_count": 3,
      "source": [
        "batch_size = 512\n",
        "epochs = 20\n",
        "learning_rate = 1e-3"
      ],
      "outputs": [],
      "metadata": {
        "id": "BEwVL16oCvYh"
      }
    },
    {
      "cell_type": "markdown",
      "source": [
        "# Loading and Preparing the Data\n",
        "\n",
        "We shall train our Autoencoder using the MNIST dataset. The procedure is as follows: load the data in via the `torchvision` package, convert them into tensors using `torchvision.transforms.ToTensor()`, and download it to the directory specified in `root` (if it's not there already). Afterwards, we create a `torch.utils.data.DataLoader` object to prepare it for training. The test dataset is prepared in a similar manner."
      ],
      "metadata": {
        "id": "roGqVRO5MJgW"
      }
    },
    {
      "cell_type": "code",
      "execution_count": 4,
      "source": [
        "transform = torchvision.transforms.Compose([torchvision.transforms.ToTensor()])\n",
        "\n",
        "# Dataset\n",
        "train_dataset = torchvision.datasets.MNIST(\n",
        "    root=\"~/torch_datasets\", train=True, transform=transform, download=True\n",
        ")\n",
        "test_dataset = torchvision.datasets.MNIST(\n",
        "    root=\"~/torch_datasets\", train=False, transform=transform, download=True\n",
        ")\n",
        "# Dataloader\n",
        "train_loader = torch.utils.data.DataLoader(\n",
        "    train_dataset, batch_size=batch_size, shuffle=True\n",
        ")\n",
        "test_loader = torch.utils.data.DataLoader(\n",
        "    test_dataset, batch_size=10, shuffle=False\n",
        ")"
      ],
      "outputs": [
        {
          "output_type": "stream",
          "name": "stdout",
          "text": [
            "Downloading http://yann.lecun.com/exdb/mnist/train-images-idx3-ubyte.gz\n",
            "Downloading http://yann.lecun.com/exdb/mnist/train-images-idx3-ubyte.gz to /root/torch_datasets/MNIST/raw/train-images-idx3-ubyte.gz\n"
          ]
        },
        {
          "output_type": "display_data",
          "data": {
            "text/plain": [
              "HBox(children=(FloatProgress(value=0.0, max=9912422.0), HTML(value='')))"
            ],
            "application/vnd.jupyter.widget-view+json": {
              "model_id": "758696c7429145449e6bb293ee186a67",
              "version_major": 2,
              "version_minor": 0
            }
          },
          "metadata": {
            "tags": []
          }
        },
        {
          "output_type": "stream",
          "name": "stdout",
          "text": [
            "\n",
            "Extracting /root/torch_datasets/MNIST/raw/train-images-idx3-ubyte.gz to /root/torch_datasets/MNIST/raw\n",
            "\n",
            "Downloading http://yann.lecun.com/exdb/mnist/train-labels-idx1-ubyte.gz\n",
            "Downloading http://yann.lecun.com/exdb/mnist/train-labels-idx1-ubyte.gz to /root/torch_datasets/MNIST/raw/train-labels-idx1-ubyte.gz\n"
          ]
        },
        {
          "output_type": "display_data",
          "data": {
            "text/plain": [
              "HBox(children=(FloatProgress(value=0.0, max=28881.0), HTML(value='')))"
            ],
            "application/vnd.jupyter.widget-view+json": {
              "model_id": "65caf89038c84870bb0f7693e52495a4",
              "version_major": 2,
              "version_minor": 0
            }
          },
          "metadata": {
            "tags": []
          }
        },
        {
          "output_type": "stream",
          "name": "stdout",
          "text": [
            "\n",
            "Extracting /root/torch_datasets/MNIST/raw/train-labels-idx1-ubyte.gz to /root/torch_datasets/MNIST/raw\n",
            "\n",
            "Downloading http://yann.lecun.com/exdb/mnist/t10k-images-idx3-ubyte.gz\n",
            "Downloading http://yann.lecun.com/exdb/mnist/t10k-images-idx3-ubyte.gz to /root/torch_datasets/MNIST/raw/t10k-images-idx3-ubyte.gz\n"
          ]
        },
        {
          "output_type": "display_data",
          "data": {
            "text/plain": [
              "HBox(children=(FloatProgress(value=0.0, max=1648877.0), HTML(value='')))"
            ],
            "application/vnd.jupyter.widget-view+json": {
              "model_id": "efd6b4c2e2f3483caaeb57ef418d7248",
              "version_major": 2,
              "version_minor": 0
            }
          },
          "metadata": {
            "tags": []
          }
        },
        {
          "output_type": "stream",
          "name": "stdout",
          "text": [
            "\n",
            "Extracting /root/torch_datasets/MNIST/raw/t10k-images-idx3-ubyte.gz to /root/torch_datasets/MNIST/raw\n",
            "\n",
            "Downloading http://yann.lecun.com/exdb/mnist/t10k-labels-idx1-ubyte.gz\n",
            "Downloading http://yann.lecun.com/exdb/mnist/t10k-labels-idx1-ubyte.gz to /root/torch_datasets/MNIST/raw/t10k-labels-idx1-ubyte.gz\n"
          ]
        },
        {
          "output_type": "display_data",
          "data": {
            "text/plain": [
              "HBox(children=(FloatProgress(value=0.0, max=4542.0), HTML(value='')))"
            ],
            "application/vnd.jupyter.widget-view+json": {
              "model_id": "3dadab48e9554a55bd6198d63cf0e7f2",
              "version_major": 2,
              "version_minor": 0
            }
          },
          "metadata": {
            "tags": []
          }
        },
        {
          "output_type": "stream",
          "name": "stdout",
          "text": [
            "\n",
            "Extracting /root/torch_datasets/MNIST/raw/t10k-labels-idx1-ubyte.gz to /root/torch_datasets/MNIST/raw\n",
            "\n"
          ]
        },
        {
          "output_type": "stream",
          "name": "stderr",
          "text": [
            "/usr/local/lib/python3.7/dist-packages/torchvision/datasets/mnist.py:498: UserWarning: The given NumPy array is not writeable, and PyTorch does not support non-writeable tensors. This means you can write to the underlying (supposedly non-writeable) NumPy array using the tensor. You may want to copy the array to protect its data or make it writeable before converting it to a tensor. This type of warning will be suppressed for the rest of this program. (Triggered internally at  /pytorch/torch/csrc/utils/tensor_numpy.cpp:180.)\n",
            "  return torch.from_numpy(parsed.astype(m[2], copy=False)).view(*s)\n"
          ]
        }
      ],
      "metadata": {
        "colab": {
          "base_uri": "https://localhost:8080/",
          "height": 539,
          "referenced_widgets": [
            "758696c7429145449e6bb293ee186a67",
            "fba43f0d5c484c75b76497cabad944e3",
            "9c2ab4f65ec44d4ab2555351000fb91b",
            "de621c4f3ec84227a02257d0d744d13d",
            "85e93dd920e04c5ba12f6aedd07f9960",
            "7acd9972340c4e63bece963fddbba4a0",
            "12d4aabaf4b1426aab7e94081cb842d6",
            "9e06fc1626664826a0180780fea5fe7b",
            "65caf89038c84870bb0f7693e52495a4",
            "942ffc394a48442ea643c794a6b67887",
            "f0879dfb9c7044b4a8648de591e7e93f",
            "3c279e6608fe44329cf3a1e3f58e68fb",
            "d92e6fbf9afd41eaa7ed6c648e285224",
            "d728aa63fc2e45e7a656d6de8c419f4f",
            "78c5b4be05e842679479284a2d81fd3d",
            "2a5df4e59a9d4f718c009cebcd627b6c",
            "efd6b4c2e2f3483caaeb57ef418d7248",
            "2503794b6b5c461495c3b6f81fe0e095",
            "672d9712fed241e1a2e6ac5f0a3f2e06",
            "f482df35160b4ec68ace27c88eab4a38",
            "b57b99a630fc422fa12cc97324d062c5",
            "f55a332969954d5baf7c15e95a2869b5",
            "248cca7a17d340878908e136ab12b4e5",
            "a2cc7289835c4f66b32c8a2e1bbd4c66",
            "3dadab48e9554a55bd6198d63cf0e7f2",
            "f5cf98f63b5046e29bf30fbbcf0659d3",
            "7f733d8aac374f0db39a3bc9f44b9fe8",
            "6be7218857174b8dba1755307458a8dd",
            "e3227aaff73047cf96ef72cd57e6ca52",
            "e5889e05c0f441b5a3e94c141d279998",
            "cacbb613fad94536ba35120451304430",
            "45e2c58c860a46faa70e6921f32c2b4a"
          ]
        },
        "id": "E1l0t3LjNTQi",
        "outputId": "4de218bf-06b6-4198-f7d3-4a509d015fe1"
      }
    },
    {
      "cell_type": "markdown",
      "source": [
        "# Building the Autoencoder Class\n",
        "\n",
        "In the `__init__()` method,\n",
        "\n",
        "* `nn.Linear` creates a linear function ($mx + c$) for each layer, such that we can later call an activation function to introduce non-linearity. \n",
        "* The `in_features` and `out_features` parameters set the size of the input and output tensors to a given layer, respectively. Notice that the `in_features` parameter in the first layer (`self.encoder_hidden_layer`) is exactly equal to the `out_features` parameter in the final layer (`self.decoder_output_layer`), since it's attempting to reconstruct the original input.\n",
        "\n",
        "The `forward()` method defines the forward pass of a model, which occurs when we pass input tensors to an object of class `nn.Module`."
      ],
      "metadata": {
        "id": "4rKDYkI48sPl"
      }
    },
    {
      "cell_type": "code",
      "execution_count": 5,
      "source": [
        "# For brevity, define the encoder and decoder layers together in one class\n",
        "class Autoencoder(nn.Module):\n",
        "    \"\"\"A subclass of nn.Module, this Autoencoder class contains the hidden and output layers of \n",
        "    both the encoder and decoder components. Note that the size of the input and output tensors \n",
        "    for each layer is optimized for the MNIST dataset.\"\"\"\n",
        "\n",
        "    def __init__(self, **kwargs):\n",
        "        super().__init__()\n",
        "        # Encoder\n",
        "        self.encoder_hidden_layer = nn.Linear(\n",
        "            in_features=kwargs[\"input_shape\"], out_features=128\n",
        "        )\n",
        "        self.encoder_output_layer = nn.Linear(\n",
        "            in_features=128, out_features=128\n",
        "        )\n",
        "        # Decoder\n",
        "        self.decoder_hidden_layer = nn.Linear(\n",
        "            in_features=128, out_features=128\n",
        "        )\n",
        "        self.decoder_output_layer = nn.Linear(\n",
        "            in_features=128, out_features=kwargs[\"input_shape\"]\n",
        "        )\n",
        "\n",
        "    def forward(self, features):\n",
        "        \"\"\"Returns the reconstruction of the original input tensor.\"\"\"\n",
        "        # Encoder\n",
        "        activation = self.encoder_hidden_layer(features)\n",
        "        activation = torch.relu(activation)\n",
        "        code = self.encoder_output_layer(activation)\n",
        "        code = torch.sigmoid(code)\n",
        "        # Decoder\n",
        "        activation = self.decoder_hidden_layer(code)\n",
        "        activation = torch.relu(activation)\n",
        "        activation = self.decoder_output_layer(activation)\n",
        "        reconstructed = torch.sigmoid(activation)\n",
        "        return reconstructed"
      ],
      "outputs": [],
      "metadata": {
        "id": "amw3Gz_XJIg2"
      }
    },
    {
      "cell_type": "markdown",
      "source": [
        "# Training on GPU\n",
        "\n",
        "To help reduce training times, it's always a good idea to check if there's a GPU available. We do so by defining our current device as the first visible CUDA device (if one exists), and moving our Autoencoder object and its parameters over using the `to()` function."
      ],
      "metadata": {
        "id": "ykpn4QYMDzvT"
      }
    },
    {
      "cell_type": "code",
      "execution_count": 6,
      "source": [
        "device = torch.device(\"cuda\" if torch.cuda.is_available() else \"cpu\")\n",
        "\n",
        "# Assuming that we are on a CUDA machine, this should print a CUDA device\n",
        "print(device)"
      ],
      "outputs": [
        {
          "output_type": "stream",
          "name": "stdout",
          "text": [
            "cpu\n"
          ]
        }
      ],
      "metadata": {
        "colab": {
          "base_uri": "https://localhost:8080/"
        },
        "id": "kLRpgg4EGH1k",
        "outputId": "25b3c7c1-266f-4406-af8c-0fc67bdf5443"
      }
    },
    {
      "cell_type": "markdown",
      "source": [
        "Now, we simply declare an object from our Autoencoder class, and load it to our GPU/CPU."
      ],
      "metadata": {}
    },
    {
      "cell_type": "code",
      "execution_count": 7,
      "source": [
        "# Create a model from the Autoencoder class, and load it to the device specified above\n",
        "model = Autoencoder(input_shape=784).to(device)"
      ],
      "outputs": [],
      "metadata": {
        "id": "Ukg5q-m_HAnL"
      }
    },
    {
      "cell_type": "markdown",
      "source": [
        "Create an optimizer object to minimize the model's loss function. We adopt the convention of using Adam optimization and a mean-squared error (MSE) loss."
      ],
      "metadata": {
        "id": "RMPOWTUQHm8I"
      }
    },
    {
      "cell_type": "code",
      "execution_count": 8,
      "source": [
        "optimizer = optim.Adam(model.parameters(), lr=learning_rate)\n",
        "criterion = nn.MSELoss()"
      ],
      "outputs": [],
      "metadata": {
        "id": "_RgSQEEfLDcD"
      }
    },
    {
      "cell_type": "markdown",
      "source": [
        "# Training the Model\n",
        "\n",
        "Finally, we train our Autoencoder model for the number of epochs specified at the start, where at each epoch, we reset the gradients back to 0 using `optimizer.zero_grad()` to account for PyTorch accumulating gradients on subsequent passes."
      ],
      "metadata": {
        "id": "0IRuU_MnPOyw"
      }
    },
    {
      "cell_type": "code",
      "execution_count": 9,
      "source": [
        "for epoch in range(epochs):\n",
        "    loss = 0\n",
        "    for batch_features, _ in train_loader:\n",
        "        # Reshape the mini-batch data to [N, 784] matrix, where N is the total number of inputs, and load it to the specified device\n",
        "        batch_features = batch_features.view(-1, 784).to(device)\n",
        "        \n",
        "        # Reset the gradients back to 0. Note that PyTorch accumulates gradients on subsequent backward passes\n",
        "        optimizer.zero_grad()\n",
        "        \n",
        "        # Compute reconstructions\n",
        "        outputs = model(batch_features)\n",
        "        \n",
        "        # Calculate training reconstruction loss\n",
        "        train_loss = criterion(outputs, batch_features)\n",
        "        \n",
        "        # Compute accumulated gradients\n",
        "        train_loss.backward()\n",
        "        \n",
        "        # Update parameters based on current gradients\n",
        "        optimizer.step()\n",
        "        \n",
        "        # Add the mini-batch training loss to epoch loss\n",
        "        loss += train_loss.item()\n",
        "    \n",
        "    # Compute the epoch training loss\n",
        "    loss = loss / len(train_loader)\n",
        "    \n",
        "    # Display the epoch training loss\n",
        "    print(\"epoch : {}/{}, loss = {:.8f}\".format(epoch + 1, epochs, loss))"
      ],
      "outputs": [
        {
          "output_type": "stream",
          "name": "stdout",
          "text": [
            "epoch : 1/20, loss = 0.08577267\n",
            "epoch : 2/20, loss = 0.06161010\n",
            "epoch : 3/20, loss = 0.05715162\n",
            "epoch : 4/20, loss = 0.04949571\n",
            "epoch : 5/20, loss = 0.04359174\n",
            "epoch : 6/20, loss = 0.03965875\n",
            "epoch : 7/20, loss = 0.03580239\n",
            "epoch : 8/20, loss = 0.03147178\n",
            "epoch : 9/20, loss = 0.02968464\n",
            "epoch : 10/20, loss = 0.02832338\n",
            "epoch : 11/20, loss = 0.02660071\n",
            "epoch : 12/20, loss = 0.02541634\n",
            "epoch : 13/20, loss = 0.02427367\n",
            "epoch : 14/20, loss = 0.02328591\n",
            "epoch : 15/20, loss = 0.02256932\n",
            "epoch : 16/20, loss = 0.02188804\n",
            "epoch : 17/20, loss = 0.02127223\n",
            "epoch : 18/20, loss = 0.02051072\n",
            "epoch : 19/20, loss = 0.01980107\n",
            "epoch : 20/20, loss = 0.01928816\n"
          ]
        }
      ],
      "metadata": {
        "colab": {
          "base_uri": "https://localhost:8080/"
        },
        "id": "MhrENiCjRRbY",
        "outputId": "42f0a863-c9da-406e-9286-1b51a19e1201"
      }
    },
    {
      "cell_type": "markdown",
      "source": [
        "# Testing our model\n",
        "\n",
        "Let's use the test dataset we prepared previously to test our Autoencoder model."
      ],
      "metadata": {
        "id": "K_wnubofS291"
      }
    },
    {
      "cell_type": "code",
      "execution_count": 10,
      "source": [
        "test_examples = None\n",
        "\n",
        "with torch.no_grad():\n",
        "    for batch_features in test_loader:\n",
        "        batch_features = batch_features[0]\n",
        "        test_examples = batch_features.view(-1, 784)\n",
        "        reconstruction = model(test_examples)\n",
        "        break"
      ],
      "outputs": [],
      "metadata": {
        "id": "NMYQju90DSZy"
      }
    },
    {
      "cell_type": "markdown",
      "source": [
        "# Visualizing our Results\n",
        "\n",
        "To get a visual of what exactly our model is doing, let's also try to display a sample of our test images from our trained Autoencoder."
      ],
      "metadata": {
        "id": "a8FpW3RhDV5Y"
      }
    },
    {
      "cell_type": "code",
      "execution_count": 11,
      "source": [
        "with torch.no_grad():\n",
        "    number = 10\n",
        "    plt.figure(figsize=(20, 4))\n",
        "    for index in range(number):\n",
        "        # Original\n",
        "        ax = plt.subplot(2, number, index + 1)\n",
        "        plt.imshow(test_examples[index].numpy().reshape(28, 28))\n",
        "        plt.gray()\n",
        "        ax.get_xaxis().set_visible(False)\n",
        "        ax.get_yaxis().set_visible(False)\n",
        "        # Reconstruction\n",
        "        ax = plt.subplot(2, number, index + 1 + number)\n",
        "        plt.imshow(reconstruction[index].numpy().reshape(28, 28))\n",
        "        plt.gray()\n",
        "        ax.get_xaxis().set_visible(False)\n",
        "        ax.get_yaxis().set_visible(False)\n",
        "    plt.show()"
      ],
      "outputs": [
        {
          "output_type": "display_data",
          "data": {
            "text/plain": [
              "<Figure size 1440x288 with 20 Axes>"
            ],
            "image/png": "[encoded data removed]"
          },
          "metadata": {
            "needs_background": "light",
            "tags": []
          }
        }
      ],
      "metadata": {
        "colab": {
          "base_uri": "https://localhost:8080/",
          "height": 248
        },
        "id": "6ctElQEcEBB3",
        "outputId": "a1f74d90-8a77-4de3-8b14-463e5edc8473"
      }
    },
    {
      "cell_type": "markdown",
      "source": [
        "As is the nature of machine learning, your results may vary depending on which local minimum your loss function achieves. Try playing around with the hyperparameters to see if you can minimize the Autoencoder's reconstruction error even further! One could also try letting the Autoencoder train on \"noisy\" images, which forces the model to learn the useful features of the data (as opposed to simply copying the input to its output) by subtracting out the random noise before reproducing the original \"non-noisy\" inputs. (*hint: you only have to change the inputs to the model*)"
      ],
      "metadata": {}
    },
    {
      "cell_type": "markdown",
      "source": [
        "# Acknowledgements & Citations\n",
        "\n",
        "This tutorial was written with the aid of Abien Fred Agarap's article: “Implementing an Autoencoder in PyTorch” (1). \n",
        "\n",
        "(1) Agarap, Abien Fred. “Implementing an Autoencoder in PyTorch”. Abien Fred Agarap, 26 Jan. 2020, [https://afagarap.works/2020/01/26/implementing-autoencoder-in-pytorch.html](https://afagarap.works/2020/01/26/implementing-autoencoder-in-pytorch.html)."
      ],
      "metadata": {
        "id": "8THffOyv8IHh"
      }
    }
  ],
  "metadata": {
    "colab": {
      "name": "MNIST_auto_classifier.ipynb",
      "provenance": []
    },
    "interpreter": {
      "hash": "7812ea015bdcee6f23a998adcdd2ef97c151c0c241b7b7070987d9313e41299d"
    },
    "kernelspec": {
      "display_name": "Python 3.9.5 64-bit ('3.9')",
      "name": "python3"
    },
    "language_info": {
      "name": "python",
      "version": ""
    },
    "widgets": {
      "application/vnd.jupyter.widget-state+json": {
        "12d4aabaf4b1426aab7e94081cb842d6": {
          "model_module": "@jupyter-widgets/controls",
          "model_name": "DescriptionStyleModel",
          "state": {
            "_model_module": "@jupyter-widgets/controls",
            "_model_module_version": "1.5.0",
            "_model_name": "DescriptionStyleModel",
            "_view_count": null,
            "_view_module": "@jupyter-widgets/base",
            "_view_module_version": "1.2.0",
            "_view_name": "StyleView",
            "description_width": ""
          }
        },
        "248cca7a17d340878908e136ab12b4e5": {
          "model_module": "@jupyter-widgets/controls",
          "model_name": "DescriptionStyleModel",
          "state": {
            "_model_module": "@jupyter-widgets/controls",
            "_model_module_version": "1.5.0",
            "_model_name": "DescriptionStyleModel",
            "_view_count": null,
            "_view_module": "@jupyter-widgets/base",
            "_view_module_version": "1.2.0",
            "_view_name": "StyleView",
            "description_width": ""
          }
        },
        "2503794b6b5c461495c3b6f81fe0e095": {
          "model_module": "@jupyter-widgets/base",
          "model_name": "LayoutModel",
          "state": {
            "_model_module": "@jupyter-widgets/base",
            "_model_module_version": "1.2.0",
            "_model_name": "LayoutModel",
            "_view_count": null,
            "_view_module": "@jupyter-widgets/base",
            "_view_module_version": "1.2.0",
            "_view_name": "LayoutView",
            "align_content": null,
            "align_items": null,
            "align_self": null,
            "border": null,
            "bottom": null,
            "display": null,
            "flex": null,
            "flex_flow": null,
            "grid_area": null,
            "grid_auto_columns": null,
            "grid_auto_flow": null,
            "grid_auto_rows": null,
            "grid_column": null,
            "grid_gap": null,
            "grid_row": null,
            "grid_template_areas": null,
            "grid_template_columns": null,
            "grid_template_rows": null,
            "height": null,
            "justify_content": null,
            "justify_items": null,
            "left": null,
            "margin": null,
            "max_height": null,
            "max_width": null,
            "min_height": null,
            "min_width": null,
            "object_fit": null,
            "object_position": null,
            "order": null,
            "overflow": null,
            "overflow_x": null,
            "overflow_y": null,
            "padding": null,
            "right": null,
            "top": null,
            "visibility": null,
            "width": null
          }
        },
        "2a5df4e59a9d4f718c009cebcd627b6c": {
          "model_module": "@jupyter-widgets/base",
          "model_name": "LayoutModel",
          "state": {
            "_model_module": "@jupyter-widgets/base",
            "_model_module_version": "1.2.0",
            "_model_name": "LayoutModel",
            "_view_count": null,
            "_view_module": "@jupyter-widgets/base",
            "_view_module_version": "1.2.0",
            "_view_name": "LayoutView",
            "align_content": null,
            "align_items": null,
            "align_self": null,
            "border": null,
            "bottom": null,
            "display": null,
            "flex": null,
            "flex_flow": null,
            "grid_area": null,
            "grid_auto_columns": null,
            "grid_auto_flow": null,
            "grid_auto_rows": null,
            "grid_column": null,
            "grid_gap": null,
            "grid_row": null,
            "grid_template_areas": null,
            "grid_template_columns": null,
            "grid_template_rows": null,
            "height": null,
            "justify_content": null,
            "justify_items": null,
            "left": null,
            "margin": null,
            "max_height": null,
            "max_width": null,
            "min_height": null,
            "min_width": null,
            "object_fit": null,
            "object_position": null,
            "order": null,
            "overflow": null,
            "overflow_x": null,
            "overflow_y": null,
            "padding": null,
            "right": null,
            "top": null,
            "visibility": null,
            "width": null
          }
        },
        "3c279e6608fe44329cf3a1e3f58e68fb": {
          "model_module": "@jupyter-widgets/controls",
          "model_name": "HTMLModel",
          "state": {
            "_dom_classes": [],
            "_model_module": "@jupyter-widgets/controls",
            "_model_module_version": "1.5.0",
            "_model_name": "HTMLModel",
            "_view_count": null,
            "_view_module": "@jupyter-widgets/controls",
            "_view_module_version": "1.5.0",
            "_view_name": "HTMLView",
            "description": "",
            "description_tooltip": null,
            "layout": "IPY_MODEL_2a5df4e59a9d4f718c009cebcd627b6c",
            "placeholder": "​",
            "style": "IPY_MODEL_78c5b4be05e842679479284a2d81fd3d",
            "value": " 29696/? [00:51&lt;00:00, 579.20it/s]"
          }
        },
        "3dadab48e9554a55bd6198d63cf0e7f2": {
          "model_module": "@jupyter-widgets/controls",
          "model_name": "HBoxModel",
          "state": {
            "_dom_classes": [],
            "_model_module": "@jupyter-widgets/controls",
            "_model_module_version": "1.5.0",
            "_model_name": "HBoxModel",
            "_view_count": null,
            "_view_module": "@jupyter-widgets/controls",
            "_view_module_version": "1.5.0",
            "_view_name": "HBoxView",
            "box_style": "",
            "children": [
              "IPY_MODEL_7f733d8aac374f0db39a3bc9f44b9fe8",
              "IPY_MODEL_6be7218857174b8dba1755307458a8dd"
            ],
            "layout": "IPY_MODEL_f5cf98f63b5046e29bf30fbbcf0659d3"
          }
        },
        "45e2c58c860a46faa70e6921f32c2b4a": {
          "model_module": "@jupyter-widgets/base",
          "model_name": "LayoutModel",
          "state": {
            "_model_module": "@jupyter-widgets/base",
            "_model_module_version": "1.2.0",
            "_model_name": "LayoutModel",
            "_view_count": null,
            "_view_module": "@jupyter-widgets/base",
            "_view_module_version": "1.2.0",
            "_view_name": "LayoutView",
            "align_content": null,
            "align_items": null,
            "align_self": null,
            "border": null,
            "bottom": null,
            "display": null,
            "flex": null,
            "flex_flow": null,
            "grid_area": null,
            "grid_auto_columns": null,
            "grid_auto_flow": null,
            "grid_auto_rows": null,
            "grid_column": null,
            "grid_gap": null,
            "grid_row": null,
            "grid_template_areas": null,
            "grid_template_columns": null,
            "grid_template_rows": null,
            "height": null,
            "justify_content": null,
            "justify_items": null,
            "left": null,
            "margin": null,
            "max_height": null,
            "max_width": null,
            "min_height": null,
            "min_width": null,
            "object_fit": null,
            "object_position": null,
            "order": null,
            "overflow": null,
            "overflow_x": null,
            "overflow_y": null,
            "padding": null,
            "right": null,
            "top": null,
            "visibility": null,
            "width": null
          }
        },
        "65caf89038c84870bb0f7693e52495a4": {
          "model_module": "@jupyter-widgets/controls",
          "model_name": "HBoxModel",
          "state": {
            "_dom_classes": [],
            "_model_module": "@jupyter-widgets/controls",
            "_model_module_version": "1.5.0",
            "_model_name": "HBoxModel",
            "_view_count": null,
            "_view_module": "@jupyter-widgets/controls",
            "_view_module_version": "1.5.0",
            "_view_name": "HBoxView",
            "box_style": "",
            "children": [
              "IPY_MODEL_f0879dfb9c7044b4a8648de591e7e93f",
              "IPY_MODEL_3c279e6608fe44329cf3a1e3f58e68fb"
            ],
            "layout": "IPY_MODEL_942ffc394a48442ea643c794a6b67887"
          }
        },
        "672d9712fed241e1a2e6ac5f0a3f2e06": {
          "model_module": "@jupyter-widgets/controls",
          "model_name": "FloatProgressModel",
          "state": {
            "_dom_classes": [],
            "_model_module": "@jupyter-widgets/controls",
            "_model_module_version": "1.5.0",
            "_model_name": "FloatProgressModel",
            "_view_count": null,
            "_view_module": "@jupyter-widgets/controls",
            "_view_module_version": "1.5.0",
            "_view_name": "ProgressView",
            "bar_style": "success",
            "description": "",
            "description_tooltip": null,
            "layout": "IPY_MODEL_f55a332969954d5baf7c15e95a2869b5",
            "max": 1648877,
            "min": 0,
            "orientation": "horizontal",
            "style": "IPY_MODEL_b57b99a630fc422fa12cc97324d062c5",
            "value": 1648877
          }
        },
        "6be7218857174b8dba1755307458a8dd": {
          "model_module": "@jupyter-widgets/controls",
          "model_name": "HTMLModel",
          "state": {
            "_dom_classes": [],
            "_model_module": "@jupyter-widgets/controls",
            "_model_module_version": "1.5.0",
            "_model_name": "HTMLModel",
            "_view_count": null,
            "_view_module": "@jupyter-widgets/controls",
            "_view_module_version": "1.5.0",
            "_view_name": "HTMLView",
            "description": "",
            "description_tooltip": null,
            "layout": "IPY_MODEL_45e2c58c860a46faa70e6921f32c2b4a",
            "placeholder": "​",
            "style": "IPY_MODEL_cacbb613fad94536ba35120451304430",
            "value": " 5120/? [00:00&lt;00:00, 6295.19it/s]"
          }
        },
        "758696c7429145449e6bb293ee186a67": {
          "model_module": "@jupyter-widgets/controls",
          "model_name": "HBoxModel",
          "state": {
            "_dom_classes": [],
            "_model_module": "@jupyter-widgets/controls",
            "_model_module_version": "1.5.0",
            "_model_name": "HBoxModel",
            "_view_count": null,
            "_view_module": "@jupyter-widgets/controls",
            "_view_module_version": "1.5.0",
            "_view_name": "HBoxView",
            "box_style": "",
            "children": [
              "IPY_MODEL_9c2ab4f65ec44d4ab2555351000fb91b",
              "IPY_MODEL_de621c4f3ec84227a02257d0d744d13d"
            ],
            "layout": "IPY_MODEL_fba43f0d5c484c75b76497cabad944e3"
          }
        },
        "78c5b4be05e842679479284a2d81fd3d": {
          "model_module": "@jupyter-widgets/controls",
          "model_name": "DescriptionStyleModel",
          "state": {
            "_model_module": "@jupyter-widgets/controls",
            "_model_module_version": "1.5.0",
            "_model_name": "DescriptionStyleModel",
            "_view_count": null,
            "_view_module": "@jupyter-widgets/base",
            "_view_module_version": "1.2.0",
            "_view_name": "StyleView",
            "description_width": ""
          }
        },
        "7acd9972340c4e63bece963fddbba4a0": {
          "model_module": "@jupyter-widgets/base",
          "model_name": "LayoutModel",
          "state": {
            "_model_module": "@jupyter-widgets/base",
            "_model_module_version": "1.2.0",
            "_model_name": "LayoutModel",
            "_view_count": null,
            "_view_module": "@jupyter-widgets/base",
            "_view_module_version": "1.2.0",
            "_view_name": "LayoutView",
            "align_content": null,
            "align_items": null,
            "align_self": null,
            "border": null,
            "bottom": null,
            "display": null,
            "flex": null,
            "flex_flow": null,
            "grid_area": null,
            "grid_auto_columns": null,
            "grid_auto_flow": null,
            "grid_auto_rows": null,
            "grid_column": null,
            "grid_gap": null,
            "grid_row": null,
            "grid_template_areas": null,
            "grid_template_columns": null,
            "grid_template_rows": null,
            "height": null,
            "justify_content": null,
            "justify_items": null,
            "left": null,
            "margin": null,
            "max_height": null,
            "max_width": null,
            "min_height": null,
            "min_width": null,
            "object_fit": null,
            "object_position": null,
            "order": null,
            "overflow": null,
            "overflow_x": null,
            "overflow_y": null,
            "padding": null,
            "right": null,
            "top": null,
            "visibility": null,
            "width": null
          }
        },
        "7f733d8aac374f0db39a3bc9f44b9fe8": {
          "model_module": "@jupyter-widgets/controls",
          "model_name": "FloatProgressModel",
          "state": {
            "_dom_classes": [],
            "_model_module": "@jupyter-widgets/controls",
            "_model_module_version": "1.5.0",
            "_model_name": "FloatProgressModel",
            "_view_count": null,
            "_view_module": "@jupyter-widgets/controls",
            "_view_module_version": "1.5.0",
            "_view_name": "ProgressView",
            "bar_style": "success",
            "description": "",
            "description_tooltip": null,
            "layout": "IPY_MODEL_e5889e05c0f441b5a3e94c141d279998",
            "max": 4542,
            "min": 0,
            "orientation": "horizontal",
            "style": "IPY_MODEL_e3227aaff73047cf96ef72cd57e6ca52",
            "value": 4542
          }
        },
        "85e93dd920e04c5ba12f6aedd07f9960": {
          "model_module": "@jupyter-widgets/controls",
          "model_name": "ProgressStyleModel",
          "state": {
            "_model_module": "@jupyter-widgets/controls",
            "_model_module_version": "1.5.0",
            "_model_name": "ProgressStyleModel",
            "_view_count": null,
            "_view_module": "@jupyter-widgets/base",
            "_view_module_version": "1.2.0",
            "_view_name": "StyleView",
            "bar_color": null,
            "description_width": "initial"
          }
        },
        "942ffc394a48442ea643c794a6b67887": {
          "model_module": "@jupyter-widgets/base",
          "model_name": "LayoutModel",
          "state": {
            "_model_module": "@jupyter-widgets/base",
            "_model_module_version": "1.2.0",
            "_model_name": "LayoutModel",
            "_view_count": null,
            "_view_module": "@jupyter-widgets/base",
            "_view_module_version": "1.2.0",
            "_view_name": "LayoutView",
            "align_content": null,
            "align_items": null,
            "align_self": null,
            "border": null,
            "bottom": null,
            "display": null,
            "flex": null,
            "flex_flow": null,
            "grid_area": null,
            "grid_auto_columns": null,
            "grid_auto_flow": null,
            "grid_auto_rows": null,
            "grid_column": null,
            "grid_gap": null,
            "grid_row": null,
            "grid_template_areas": null,
            "grid_template_columns": null,
            "grid_template_rows": null,
            "height": null,
            "justify_content": null,
            "justify_items": null,
            "left": null,
            "margin": null,
            "max_height": null,
            "max_width": null,
            "min_height": null,
            "min_width": null,
            "object_fit": null,
            "object_position": null,
            "order": null,
            "overflow": null,
            "overflow_x": null,
            "overflow_y": null,
            "padding": null,
            "right": null,
            "top": null,
            "visibility": null,
            "width": null
          }
        },
        "9c2ab4f65ec44d4ab2555351000fb91b": {
          "model_module": "@jupyter-widgets/controls",
          "model_name": "FloatProgressModel",
          "state": {
            "_dom_classes": [],
            "_model_module": "@jupyter-widgets/controls",
            "_model_module_version": "1.5.0",
            "_model_name": "FloatProgressModel",
            "_view_count": null,
            "_view_module": "@jupyter-widgets/controls",
            "_view_module_version": "1.5.0",
            "_view_name": "ProgressView",
            "bar_style": "success",
            "description": "",
            "description_tooltip": null,
            "layout": "IPY_MODEL_7acd9972340c4e63bece963fddbba4a0",
            "max": 9912422,
            "min": 0,
            "orientation": "horizontal",
            "style": "IPY_MODEL_85e93dd920e04c5ba12f6aedd07f9960",
            "value": 9912422
          }
        },
        "9e06fc1626664826a0180780fea5fe7b": {
          "model_module": "@jupyter-widgets/base",
          "model_name": "LayoutModel",
          "state": {
            "_model_module": "@jupyter-widgets/base",
            "_model_module_version": "1.2.0",
            "_model_name": "LayoutModel",
            "_view_count": null,
            "_view_module": "@jupyter-widgets/base",
            "_view_module_version": "1.2.0",
            "_view_name": "LayoutView",
            "align_content": null,
            "align_items": null,
            "align_self": null,
            "border": null,
            "bottom": null,
            "display": null,
            "flex": null,
            "flex_flow": null,
            "grid_area": null,
            "grid_auto_columns": null,
            "grid_auto_flow": null,
            "grid_auto_rows": null,
            "grid_column": null,
            "grid_gap": null,
            "grid_row": null,
            "grid_template_areas": null,
            "grid_template_columns": null,
            "grid_template_rows": null,
            "height": null,
            "justify_content": null,
            "justify_items": null,
            "left": null,
            "margin": null,
            "max_height": null,
            "max_width": null,
            "min_height": null,
            "min_width": null,
            "object_fit": null,
            "object_position": null,
            "order": null,
            "overflow": null,
            "overflow_x": null,
            "overflow_y": null,
            "padding": null,
            "right": null,
            "top": null,
            "visibility": null,
            "width": null
          }
        },
        "a2cc7289835c4f66b32c8a2e1bbd4c66": {
          "model_module": "@jupyter-widgets/base",
          "model_name": "LayoutModel",
          "state": {
            "_model_module": "@jupyter-widgets/base",
            "_model_module_version": "1.2.0",
            "_model_name": "LayoutModel",
            "_view_count": null,
            "_view_module": "@jupyter-widgets/base",
            "_view_module_version": "1.2.0",
            "_view_name": "LayoutView",
            "align_content": null,
            "align_items": null,
            "align_self": null,
            "border": null,
            "bottom": null,
            "display": null,
            "flex": null,
            "flex_flow": null,
            "grid_area": null,
            "grid_auto_columns": null,
            "grid_auto_flow": null,
            "grid_auto_rows": null,
            "grid_column": null,
            "grid_gap": null,
            "grid_row": null,
            "grid_template_areas": null,
            "grid_template_columns": null,
            "grid_template_rows": null,
            "height": null,
            "justify_content": null,
            "justify_items": null,
            "left": null,
            "margin": null,
            "max_height": null,
            "max_width": null,
            "min_height": null,
            "min_width": null,
            "object_fit": null,
            "object_position": null,
            "order": null,
            "overflow": null,
            "overflow_x": null,
            "overflow_y": null,
            "padding": null,
            "right": null,
            "top": null,
            "visibility": null,
            "width": null
          }
        },
        "b57b99a630fc422fa12cc97324d062c5": {
          "model_module": "@jupyter-widgets/controls",
          "model_name": "ProgressStyleModel",
          "state": {
            "_model_module": "@jupyter-widgets/controls",
            "_model_module_version": "1.5.0",
            "_model_name": "ProgressStyleModel",
            "_view_count": null,
            "_view_module": "@jupyter-widgets/base",
            "_view_module_version": "1.2.0",
            "_view_name": "StyleView",
            "bar_color": null,
            "description_width": "initial"
          }
        },
        "cacbb613fad94536ba35120451304430": {
          "model_module": "@jupyter-widgets/controls",
          "model_name": "DescriptionStyleModel",
          "state": {
            "_model_module": "@jupyter-widgets/controls",
            "_model_module_version": "1.5.0",
            "_model_name": "DescriptionStyleModel",
            "_view_count": null,
            "_view_module": "@jupyter-widgets/base",
            "_view_module_version": "1.2.0",
            "_view_name": "StyleView",
            "description_width": ""
          }
        },
        "d728aa63fc2e45e7a656d6de8c419f4f": {
          "model_module": "@jupyter-widgets/base",
          "model_name": "LayoutModel",
          "state": {
            "_model_module": "@jupyter-widgets/base",
            "_model_module_version": "1.2.0",
            "_model_name": "LayoutModel",
            "_view_count": null,
            "_view_module": "@jupyter-widgets/base",
            "_view_module_version": "1.2.0",
            "_view_name": "LayoutView",
            "align_content": null,
            "align_items": null,
            "align_self": null,
            "border": null,
            "bottom": null,
            "display": null,
            "flex": null,
            "flex_flow": null,
            "grid_area": null,
            "grid_auto_columns": null,
            "grid_auto_flow": null,
            "grid_auto_rows": null,
            "grid_column": null,
            "grid_gap": null,
            "grid_row": null,
            "grid_template_areas": null,
            "grid_template_columns": null,
            "grid_template_rows": null,
            "height": null,
            "justify_content": null,
            "justify_items": null,
            "left": null,
            "margin": null,
            "max_height": null,
            "max_width": null,
            "min_height": null,
            "min_width": null,
            "object_fit": null,
            "object_position": null,
            "order": null,
            "overflow": null,
            "overflow_x": null,
            "overflow_y": null,
            "padding": null,
            "right": null,
            "top": null,
            "visibility": null,
            "width": null
          }
        },
        "d92e6fbf9afd41eaa7ed6c648e285224": {
          "model_module": "@jupyter-widgets/controls",
          "model_name": "ProgressStyleModel",
          "state": {
            "_model_module": "@jupyter-widgets/controls",
            "_model_module_version": "1.5.0",
            "_model_name": "ProgressStyleModel",
            "_view_count": null,
            "_view_module": "@jupyter-widgets/base",
            "_view_module_version": "1.2.0",
            "_view_name": "StyleView",
            "bar_color": null,
            "description_width": "initial"
          }
        },
        "de621c4f3ec84227a02257d0d744d13d": {
          "model_module": "@jupyter-widgets/controls",
          "model_name": "HTMLModel",
          "state": {
            "_dom_classes": [],
            "_model_module": "@jupyter-widgets/controls",
            "_model_module_version": "1.5.0",
            "_model_name": "HTMLModel",
            "_view_count": null,
            "_view_module": "@jupyter-widgets/controls",
            "_view_module_version": "1.5.0",
            "_view_name": "HTMLView",
            "description": "",
            "description_tooltip": null,
            "layout": "IPY_MODEL_9e06fc1626664826a0180780fea5fe7b",
            "placeholder": "​",
            "style": "IPY_MODEL_12d4aabaf4b1426aab7e94081cb842d6",
            "value": " 9913344/? [05:27&lt;00:00, 30245.67it/s]"
          }
        },
        "e3227aaff73047cf96ef72cd57e6ca52": {
          "model_module": "@jupyter-widgets/controls",
          "model_name": "ProgressStyleModel",
          "state": {
            "_model_module": "@jupyter-widgets/controls",
            "_model_module_version": "1.5.0",
            "_model_name": "ProgressStyleModel",
            "_view_count": null,
            "_view_module": "@jupyter-widgets/base",
            "_view_module_version": "1.2.0",
            "_view_name": "StyleView",
            "bar_color": null,
            "description_width": "initial"
          }
        },
        "e5889e05c0f441b5a3e94c141d279998": {
          "model_module": "@jupyter-widgets/base",
          "model_name": "LayoutModel",
          "state": {
            "_model_module": "@jupyter-widgets/base",
            "_model_module_version": "1.2.0",
            "_model_name": "LayoutModel",
            "_view_count": null,
            "_view_module": "@jupyter-widgets/base",
            "_view_module_version": "1.2.0",
            "_view_name": "LayoutView",
            "align_content": null,
            "align_items": null,
            "align_self": null,
            "border": null,
            "bottom": null,
            "display": null,
            "flex": null,
            "flex_flow": null,
            "grid_area": null,
            "grid_auto_columns": null,
            "grid_auto_flow": null,
            "grid_auto_rows": null,
            "grid_column": null,
            "grid_gap": null,
            "grid_row": null,
            "grid_template_areas": null,
            "grid_template_columns": null,
            "grid_template_rows": null,
            "height": null,
            "justify_content": null,
            "justify_items": null,
            "left": null,
            "margin": null,
            "max_height": null,
            "max_width": null,
            "min_height": null,
            "min_width": null,
            "object_fit": null,
            "object_position": null,
            "order": null,
            "overflow": null,
            "overflow_x": null,
            "overflow_y": null,
            "padding": null,
            "right": null,
            "top": null,
            "visibility": null,
            "width": null
          }
        },
        "efd6b4c2e2f3483caaeb57ef418d7248": {
          "model_module": "@jupyter-widgets/controls",
          "model_name": "HBoxModel",
          "state": {
            "_dom_classes": [],
            "_model_module": "@jupyter-widgets/controls",
            "_model_module_version": "1.5.0",
            "_model_name": "HBoxModel",
            "_view_count": null,
            "_view_module": "@jupyter-widgets/controls",
            "_view_module_version": "1.5.0",
            "_view_name": "HBoxView",
            "box_style": "",
            "children": [
              "IPY_MODEL_672d9712fed241e1a2e6ac5f0a3f2e06",
              "IPY_MODEL_f482df35160b4ec68ace27c88eab4a38"
            ],
            "layout": "IPY_MODEL_2503794b6b5c461495c3b6f81fe0e095"
          }
        },
        "f0879dfb9c7044b4a8648de591e7e93f": {
          "model_module": "@jupyter-widgets/controls",
          "model_name": "FloatProgressModel",
          "state": {
            "_dom_classes": [],
            "_model_module": "@jupyter-widgets/controls",
            "_model_module_version": "1.5.0",
            "_model_name": "FloatProgressModel",
            "_view_count": null,
            "_view_module": "@jupyter-widgets/controls",
            "_view_module_version": "1.5.0",
            "_view_name": "ProgressView",
            "bar_style": "success",
            "description": "",
            "description_tooltip": null,
            "layout": "IPY_MODEL_d728aa63fc2e45e7a656d6de8c419f4f",
            "max": 28881,
            "min": 0,
            "orientation": "horizontal",
            "style": "IPY_MODEL_d92e6fbf9afd41eaa7ed6c648e285224",
            "value": 28881
          }
        },
        "f482df35160b4ec68ace27c88eab4a38": {
          "model_module": "@jupyter-widgets/controls",
          "model_name": "HTMLModel",
          "state": {
            "_dom_classes": [],
            "_model_module": "@jupyter-widgets/controls",
            "_model_module_version": "1.5.0",
            "_model_name": "HTMLModel",
            "_view_count": null,
            "_view_module": "@jupyter-widgets/controls",
            "_view_module_version": "1.5.0",
            "_view_name": "HTMLView",
            "description": "",
            "description_tooltip": null,
            "layout": "IPY_MODEL_a2cc7289835c4f66b32c8a2e1bbd4c66",
            "placeholder": "​",
            "style": "IPY_MODEL_248cca7a17d340878908e136ab12b4e5",
            "value": " 1649664/? [00:51&lt;00:00, 32336.89it/s]"
          }
        },
        "f55a332969954d5baf7c15e95a2869b5": {
          "model_module": "@jupyter-widgets/base",
          "model_name": "LayoutModel",
          "state": {
            "_model_module": "@jupyter-widgets/base",
            "_model_module_version": "1.2.0",
            "_model_name": "LayoutModel",
            "_view_count": null,
            "_view_module": "@jupyter-widgets/base",
            "_view_module_version": "1.2.0",
            "_view_name": "LayoutView",
            "align_content": null,
            "align_items": null,
            "align_self": null,
            "border": null,
            "bottom": null,
            "display": null,
            "flex": null,
            "flex_flow": null,
            "grid_area": null,
            "grid_auto_columns": null,
            "grid_auto_flow": null,
            "grid_auto_rows": null,
            "grid_column": null,
            "grid_gap": null,
            "grid_row": null,
            "grid_template_areas": null,
            "grid_template_columns": null,
            "grid_template_rows": null,
            "height": null,
            "justify_content": null,
            "justify_items": null,
            "left": null,
            "margin": null,
            "max_height": null,
            "max_width": null,
            "min_height": null,
            "min_width": null,
            "object_fit": null,
            "object_position": null,
            "order": null,
            "overflow": null,
            "overflow_x": null,
            "overflow_y": null,
            "padding": null,
            "right": null,
            "top": null,
            "visibility": null,
            "width": null
          }
        },
        "f5cf98f63b5046e29bf30fbbcf0659d3": {
          "model_module": "@jupyter-widgets/base",
          "model_name": "LayoutModel",
          "state": {
            "_model_module": "@jupyter-widgets/base",
            "_model_module_version": "1.2.0",
            "_model_name": "LayoutModel",
            "_view_count": null,
            "_view_module": "@jupyter-widgets/base",
            "_view_module_version": "1.2.0",
            "_view_name": "LayoutView",
            "align_content": null,
            "align_items": null,
            "align_self": null,
            "border": null,
            "bottom": null,
            "display": null,
            "flex": null,
            "flex_flow": null,
            "grid_area": null,
            "grid_auto_columns": null,
            "grid_auto_flow": null,
            "grid_auto_rows": null,
            "grid_column": null,
            "grid_gap": null,
            "grid_row": null,
            "grid_template_areas": null,
            "grid_template_columns": null,
            "grid_template_rows": null,
            "height": null,
            "justify_content": null,
            "justify_items": null,
            "left": null,
            "margin": null,
            "max_height": null,
            "max_width": null,
            "min_height": null,
            "min_width": null,
            "object_fit": null,
            "object_position": null,
            "order": null,
            "overflow": null,
            "overflow_x": null,
            "overflow_y": null,
            "padding": null,
            "right": null,
            "top": null,
            "visibility": null,
            "width": null
          }
        },
        "fba43f0d5c484c75b76497cabad944e3": {
          "model_module": "@jupyter-widgets/base",
          "model_name": "LayoutModel",
          "state": {
            "_model_module": "@jupyter-widgets/base",
            "_model_module_version": "1.2.0",
            "_model_name": "LayoutModel",
            "_view_count": null,
            "_view_module": "@jupyter-widgets/base",
            "_view_module_version": "1.2.0",
            "_view_name": "LayoutView",
            "align_content": null,
            "align_items": null,
            "align_self": null,
            "border": null,
            "bottom": null,
            "display": null,
            "flex": null,
            "flex_flow": null,
            "grid_area": null,
            "grid_auto_columns": null,
            "grid_auto_flow": null,
            "grid_auto_rows": null,
            "grid_column": null,
            "grid_gap": null,
            "grid_row": null,
            "grid_template_areas": null,
            "grid_template_columns": null,
            "grid_template_rows": null,
            "height": null,
            "justify_content": null,
            "justify_items": null,
            "left": null,
            "margin": null,
            "max_height": null,
            "max_width": null,
            "min_height": null,
            "min_width": null,
            "object_fit": null,
            "object_position": null,
            "order": null,
            "overflow": null,
            "overflow_x": null,
            "overflow_y": null,
            "padding": null,
            "right": null,
            "top": null,
            "visibility": null,
            "width": null
          }
        }
      }
    }
  },
  "nbformat": 4,
  "nbformat_minor": 2
}