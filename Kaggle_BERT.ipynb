{
  "cells": [
    {
      "cell_type": "code",
      "execution_count": null,
      "metadata": {
        "id": "PQWEp6YP0w-C"
      },
      "outputs": [],
      "source": [
        "%matplotlib inline "
      ]
    },
    {
      "cell_type": "markdown",
      "metadata": {
        "id": "FjD6H04tiNVk"
      },
      "source": [
        "# Import Dependencies"
      ]
    },
    {
      "cell_type": "code",
      "execution_count": null,
      "metadata": {
        "colab": {
          "base_uri": "https://localhost:8080/"
        },
        "id": "xx9pa6uliPcn",
        "outputId": "58e464c8-b3a2-4f5d-f214-c620babad887"
      },
      "outputs": [
        {
          "output_type": "stream",
          "name": "stdout",
          "text": [
            "Collecting transformers\n",
            "  Downloading transformers-4.15.0-py3-none-any.whl (3.4 MB)\n",
            "\u001b[K     |████████████████████████████████| 3.4 MB 4.3 MB/s \n",
            "\u001b[?25hRequirement already satisfied: tqdm>=4.27 in /usr/local/lib/python3.7/dist-packages (from transformers) (4.62.3)\n",
            "Collecting pyyaml>=5.1\n",
            "  Downloading PyYAML-6.0-cp37-cp37m-manylinux_2_5_x86_64.manylinux1_x86_64.manylinux_2_12_x86_64.manylinux2010_x86_64.whl (596 kB)\n",
            "\u001b[K     |████████████████████████████████| 596 kB 72.7 MB/s \n",
            "\u001b[?25hRequirement already satisfied: requests in /usr/local/lib/python3.7/dist-packages (from transformers) (2.23.0)\n",
            "Requirement already satisfied: importlib-metadata in /usr/local/lib/python3.7/dist-packages (from transformers) (4.10.0)\n",
            "Requirement already satisfied: packaging>=20.0 in /usr/local/lib/python3.7/dist-packages (from transformers) (21.3)\n",
            "Requirement already satisfied: filelock in /usr/local/lib/python3.7/dist-packages (from transformers) (3.4.2)\n",
            "Collecting sacremoses\n",
            "  Downloading sacremoses-0.0.47-py2.py3-none-any.whl (895 kB)\n",
            "\u001b[K     |████████████████████████████████| 895 kB 62.5 MB/s \n",
            "\u001b[?25hCollecting tokenizers<0.11,>=0.10.1\n",
            "  Downloading tokenizers-0.10.3-cp37-cp37m-manylinux_2_5_x86_64.manylinux1_x86_64.manylinux_2_12_x86_64.manylinux2010_x86_64.whl (3.3 MB)\n",
            "\u001b[K     |████████████████████████████████| 3.3 MB 62.9 MB/s \n",
            "\u001b[?25hCollecting huggingface-hub<1.0,>=0.1.0\n",
            "  Downloading huggingface_hub-0.4.0-py3-none-any.whl (67 kB)\n",
            "\u001b[K     |████████████████████████████████| 67 kB 6.8 MB/s \n",
            "\u001b[?25hRequirement already satisfied: regex!=2019.12.17 in /usr/local/lib/python3.7/dist-packages (from transformers) (2019.12.20)\n",
            "Requirement already satisfied: numpy>=1.17 in /usr/local/lib/python3.7/dist-packages (from transformers) (1.19.5)\n",
            "Requirement already satisfied: typing-extensions>=3.7.4.3 in /usr/local/lib/python3.7/dist-packages (from huggingface-hub<1.0,>=0.1.0->transformers) (3.10.0.2)\n",
            "Requirement already satisfied: pyparsing!=3.0.5,>=2.0.2 in /usr/local/lib/python3.7/dist-packages (from packaging>=20.0->transformers) (3.0.6)\n",
            "Requirement already satisfied: zipp>=0.5 in /usr/local/lib/python3.7/dist-packages (from importlib-metadata->transformers) (3.7.0)\n",
            "Requirement already satisfied: idna<3,>=2.5 in /usr/local/lib/python3.7/dist-packages (from requests->transformers) (2.10)\n",
            "Requirement already satisfied: urllib3!=1.25.0,!=1.25.1,<1.26,>=1.21.1 in /usr/local/lib/python3.7/dist-packages (from requests->transformers) (1.24.3)\n",
            "Requirement already satisfied: certifi>=2017.4.17 in /usr/local/lib/python3.7/dist-packages (from requests->transformers) (2021.10.8)\n",
            "Requirement already satisfied: chardet<4,>=3.0.2 in /usr/local/lib/python3.7/dist-packages (from requests->transformers) (3.0.4)\n",
            "Requirement already satisfied: click in /usr/local/lib/python3.7/dist-packages (from sacremoses->transformers) (7.1.2)\n",
            "Requirement already satisfied: six in /usr/local/lib/python3.7/dist-packages (from sacremoses->transformers) (1.15.0)\n",
            "Requirement already satisfied: joblib in /usr/local/lib/python3.7/dist-packages (from sacremoses->transformers) (1.1.0)\n",
            "Installing collected packages: pyyaml, tokenizers, sacremoses, huggingface-hub, transformers\n",
            "  Attempting uninstall: pyyaml\n",
            "    Found existing installation: PyYAML 3.13\n",
            "    Uninstalling PyYAML-3.13:\n",
            "      Successfully uninstalled PyYAML-3.13\n",
            "Successfully installed huggingface-hub-0.4.0 pyyaml-6.0 sacremoses-0.0.47 tokenizers-0.10.3 transformers-4.15.0\n"
          ]
        }
      ],
      "source": [
        "# Data Wrangling\n",
        "import os\n",
        "from google.colab import drive\n",
        "\n",
        "# Data Analysis\n",
        "import math\n",
        "import numpy as np\n",
        "import pandas as pd\n",
        "from sklearn.manifold import TSNE\n",
        "\n",
        "# Data Visualization\n",
        "import matplotlib.pyplot as plt\n",
        "import seaborn as sns\n",
        "from tqdm.notebook import tqdm\n",
        "\n",
        "# ML\n",
        "import torch\n",
        "from torch import nn, Tensor\n",
        "from torch.utils.data import Dataset, DataLoader\n",
        "from sklearn.model_selection import train_test_split\n",
        "from sklearn.metrics import ConfusionMatrixDisplay, accuracy_score\n",
        "%pip install transformers\n",
        "from transformers import BertConfig, BertModel\n",
        "from sklearn.tree import DecisionTreeClassifier\n",
        "from sklearn.ensemble import RandomForestClassifier\n",
        "\n",
        "# Miscellaneous\n",
        "import warnings\n",
        "warnings.simplefilter(action='ignore', category=FutureWarning)\n",
        "from typing import List"
      ]
    },
    {
      "cell_type": "markdown",
      "metadata": {
        "id": "eJ7JDRxVLhsR"
      },
      "source": [
        "# Set Hyperparameters"
      ]
    },
    {
      "cell_type": "code",
      "execution_count": null,
      "metadata": {
        "id": "XVbLIzxDROWv"
      },
      "outputs": [],
      "source": [
        "epoch = 10\n",
        "batch_size = 8\n",
        "num_workers = 4\n",
        "dropout = 0.1"
      ]
    },
    {
      "cell_type": "markdown",
      "metadata": {
        "id": "KtIR_heEicC8"
      },
      "source": [
        "# Data Exploration\n",
        "\n",
        "Mount our Google Drive to this Colab instance, as if it were a local file system, and switch to the directory where the data are stored."
      ]
    },
    {
      "cell_type": "code",
      "execution_count": null,
      "metadata": {
        "colab": {
          "base_uri": "https://localhost:8080/"
        },
        "id": "eoCSYl22idiX",
        "outputId": "3bc10daa-d87b-4d75-f315-36a087cd8584"
      },
      "outputs": [
        {
          "output_type": "stream",
          "name": "stdout",
          "text": [
            "Mounted at /content/drive\n",
            "/content/drive/MyDrive/Research/Ongoing/Dynamic Spectra Sequence Modeling/Data\n"
          ]
        }
      ],
      "source": [
        "drive._mount('/content/drive')\n",
        "%cd '/content/drive/MyDrive/Research/Ongoing/Dynamic Spectra Sequence Modeling/Data'"
      ]
    },
    {
      "cell_type": "code",
      "execution_count": null,
      "metadata": {
        "colab": {
          "base_uri": "https://localhost:8080/"
        },
        "id": "pADy0Bm37gh2",
        "outputId": "3617fe66-473f-4c1a-c0d6-62a1611d6916"
      },
      "outputs": [
        {
          "output_type": "stream",
          "name": "stdout",
          "text": [
            "\u001b[0m\u001b[01;34mFigures\u001b[0m/  masked_labels.csv  sample_submission.csv  \u001b[01;34mtrain\u001b[0m/\n",
            "\u001b[01;34mKaggle\u001b[0m/   \u001b[01;34mResults\u001b[0m/           \u001b[01;34mtest\u001b[0m/                  train_labels.csv\n"
          ]
        }
      ],
      "source": [
        "%ls"
      ]
    },
    {
      "cell_type": "markdown",
      "metadata": {
        "id": "dq0H6_bTjqNK"
      },
      "source": [
        "Here, we have five items of interest:\n",
        "\n",
        "\n",
        "* `train/` - a training set of cadence snippet files stored in `numpy` `float16` format (v1.20.1), one file per cadence snippet id, with corresponding labels found in the `train_labels.csv` file. Each file has dimension `(6, 273, 256)`, with the 1st dimension representing the 6 positions of the cadence, and the 2nd and 3rd dimensions representing the 2D spectrogram, i.e. frequency as a function of time.\n",
        "* `test/` - the test set cadence snippet files; our goal is to predict whether or not the cadence contains a \"needle\".\n",
        "* `train_labels.csv` - targets corresponding (by id) to the cadence snippet files found in the `train/` folder (1 if cadence contains a \"needle\", 0 if not).\n",
        "* `sample_submission.csv` - a sample submission file in the correct format.\n",
        "* `masked_labels.csv` - **[NOTE: I FORGOT WHAT THIS IS, ASK YUHONG]**\n",
        "\n",
        "\n"
      ]
    },
    {
      "cell_type": "markdown",
      "metadata": {
        "id": "wwEGPs2_mCIq"
      },
      "source": [
        "Read in both csv files into a `pd.DataFrame`, and check for any missing values."
      ]
    },
    {
      "cell_type": "code",
      "execution_count": null,
      "metadata": {
        "colab": {
          "base_uri": "https://localhost:8080/",
          "height": 206
        },
        "id": "Lsn9E8zviinj",
        "outputId": "646364f2-d641-4c8c-c57a-f167d86c0cfd"
      },
      "outputs": [
        {
          "output_type": "execute_result",
          "data": {
            "text/html": [
              "\n",
              "  <div id=\"df-83a91089-636d-469f-ac88-1eaffe119f6c\">\n",
              "    <div class=\"colab-df-container\">\n",
              "      <div>\n",
              "<style scoped>\n",
              "    .dataframe tbody tr th:only-of-type {\n",
              "        vertical-align: middle;\n",
              "    }\n",
              "\n",
              "    .dataframe tbody tr th {\n",
              "        vertical-align: top;\n",
              "    }\n",
              "\n",
              "    .dataframe thead th {\n",
              "        text-align: right;\n",
              "    }\n",
              "</style>\n",
              "<table border=\"1\" class=\"dataframe\">\n",
              "  <thead>\n",
              "    <tr style=\"text-align: right;\">\n",
              "      <th></th>\n",
              "      <th>id</th>\n",
              "      <th>target</th>\n",
              "    </tr>\n",
              "  </thead>\n",
              "  <tbody>\n",
              "    <tr>\n",
              "      <th>0</th>\n",
              "      <td>0000799a2b2c42d</td>\n",
              "      <td>0</td>\n",
              "    </tr>\n",
              "    <tr>\n",
              "      <th>1</th>\n",
              "      <td>00042890562ff68</td>\n",
              "      <td>0</td>\n",
              "    </tr>\n",
              "    <tr>\n",
              "      <th>2</th>\n",
              "      <td>0005364cdcb8e5b</td>\n",
              "      <td>0</td>\n",
              "    </tr>\n",
              "    <tr>\n",
              "      <th>3</th>\n",
              "      <td>0007a5a46901c56</td>\n",
              "      <td>0</td>\n",
              "    </tr>\n",
              "    <tr>\n",
              "      <th>4</th>\n",
              "      <td>0009283e145448e</td>\n",
              "      <td>0</td>\n",
              "    </tr>\n",
              "  </tbody>\n",
              "</table>\n",
              "</div>\n",
              "      <button class=\"colab-df-convert\" onclick=\"convertToInteractive('df-83a91089-636d-469f-ac88-1eaffe119f6c')\"\n",
              "              title=\"Convert this dataframe to an interactive table.\"\n",
              "              style=\"display:none;\">\n",
              "        \n",
              "  <svg xmlns=\"http://www.w3.org/2000/svg\" height=\"24px\"viewBox=\"0 0 24 24\"\n",
              "       width=\"24px\">\n",
              "    <path d=\"M0 0h24v24H0V0z\" fill=\"none\"/>\n",
              "    <path d=\"M18.56 5.44l.94 2.06.94-2.06 2.06-.94-2.06-.94-.94-2.06-.94 2.06-2.06.94zm-11 1L8.5 8.5l.94-2.06 2.06-.94-2.06-.94L8.5 2.5l-.94 2.06-2.06.94zm10 10l.94 2.06.94-2.06 2.06-.94-2.06-.94-.94-2.06-.94 2.06-2.06.94z\"/><path d=\"M17.41 7.96l-1.37-1.37c-.4-.4-.92-.59-1.43-.59-.52 0-1.04.2-1.43.59L10.3 9.45l-7.72 7.72c-.78.78-.78 2.05 0 2.83L4 21.41c.39.39.9.59 1.41.59.51 0 1.02-.2 1.41-.59l7.78-7.78 2.81-2.81c.8-.78.8-2.07 0-2.86zM5.41 20L4 18.59l7.72-7.72 1.47 1.35L5.41 20z\"/>\n",
              "  </svg>\n",
              "      </button>\n",
              "      \n",
              "  <style>\n",
              "    .colab-df-container {\n",
              "      display:flex;\n",
              "      flex-wrap:wrap;\n",
              "      gap: 12px;\n",
              "    }\n",
              "\n",
              "    .colab-df-convert {\n",
              "      background-color: #E8F0FE;\n",
              "      border: none;\n",
              "      border-radius: 50%;\n",
              "      cursor: pointer;\n",
              "      display: none;\n",
              "      fill: #1967D2;\n",
              "      height: 32px;\n",
              "      padding: 0 0 0 0;\n",
              "      width: 32px;\n",
              "    }\n",
              "\n",
              "    .colab-df-convert:hover {\n",
              "      background-color: #E2EBFA;\n",
              "      box-shadow: 0px 1px 2px rgba(60, 64, 67, 0.3), 0px 1px 3px 1px rgba(60, 64, 67, 0.15);\n",
              "      fill: #174EA6;\n",
              "    }\n",
              "\n",
              "    [theme=dark] .colab-df-convert {\n",
              "      background-color: #3B4455;\n",
              "      fill: #D2E3FC;\n",
              "    }\n",
              "\n",
              "    [theme=dark] .colab-df-convert:hover {\n",
              "      background-color: #434B5C;\n",
              "      box-shadow: 0px 1px 3px 1px rgba(0, 0, 0, 0.15);\n",
              "      filter: drop-shadow(0px 1px 2px rgba(0, 0, 0, 0.3));\n",
              "      fill: #FFFFFF;\n",
              "    }\n",
              "  </style>\n",
              "\n",
              "      <script>\n",
              "        const buttonEl =\n",
              "          document.querySelector('#df-83a91089-636d-469f-ac88-1eaffe119f6c button.colab-df-convert');\n",
              "        buttonEl.style.display =\n",
              "          google.colab.kernel.accessAllowed ? 'block' : 'none';\n",
              "\n",
              "        async function convertToInteractive(key) {\n",
              "          const element = document.querySelector('#df-83a91089-636d-469f-ac88-1eaffe119f6c');\n",
              "          const dataTable =\n",
              "            await google.colab.kernel.invokeFunction('convertToInteractive',\n",
              "                                                     [key], {});\n",
              "          if (!dataTable) return;\n",
              "\n",
              "          const docLinkHtml = 'Like what you see? Visit the ' +\n",
              "            '<a target=\"_blank\" href=https://colab.research.google.com/notebooks/data_table.ipynb>data table notebook</a>'\n",
              "            + ' to learn more about interactive tables.';\n",
              "          element.innerHTML = '';\n",
              "          dataTable['output_type'] = 'display_data';\n",
              "          await google.colab.output.renderOutput(dataTable, element);\n",
              "          const docLink = document.createElement('div');\n",
              "          docLink.innerHTML = docLinkHtml;\n",
              "          element.appendChild(docLink);\n",
              "        }\n",
              "      </script>\n",
              "    </div>\n",
              "  </div>\n",
              "  "
            ],
            "text/plain": [
              "                id  target\n",
              "0  0000799a2b2c42d       0\n",
              "1  00042890562ff68       0\n",
              "2  0005364cdcb8e5b       0\n",
              "3  0007a5a46901c56       0\n",
              "4  0009283e145448e       0"
            ]
          },
          "metadata": {},
          "execution_count": 6
        }
      ],
      "source": [
        "df_train = pd.read_csv('train_labels.csv')\n",
        "df_train.head()"
      ]
    },
    {
      "cell_type": "code",
      "execution_count": null,
      "metadata": {
        "colab": {
          "base_uri": "https://localhost:8080/"
        },
        "id": "vJKgwNYEjKIy",
        "outputId": "ee69eaf1-94b6-45f8-b772-cba5113cf5ba"
      },
      "outputs": [
        {
          "output_type": "execute_result",
          "data": {
            "text/plain": [
              "(60000, 2)"
            ]
          },
          "metadata": {},
          "execution_count": 7
        }
      ],
      "source": [
        "df_train.shape"
      ]
    },
    {
      "cell_type": "code",
      "execution_count": null,
      "metadata": {
        "colab": {
          "base_uri": "https://localhost:8080/"
        },
        "id": "5KF9UTHkjLfg",
        "outputId": "7dcef21d-47bd-444d-f9e3-aca6d5b3e1fd"
      },
      "outputs": [
        {
          "output_type": "stream",
          "name": "stdout",
          "text": [
            "<class 'pandas.core.frame.DataFrame'>\n",
            "RangeIndex: 60000 entries, 0 to 59999\n",
            "Data columns (total 2 columns):\n",
            " #   Column  Non-Null Count  Dtype \n",
            "---  ------  --------------  ----- \n",
            " 0   id      60000 non-null  object\n",
            " 1   target  60000 non-null  int64 \n",
            "dtypes: int64(1), object(1)\n",
            "memory usage: 937.6+ KB\n"
          ]
        }
      ],
      "source": [
        "df_train.info()"
      ]
    },
    {
      "cell_type": "code",
      "execution_count": null,
      "metadata": {
        "colab": {
          "base_uri": "https://localhost:8080/",
          "height": 206
        },
        "id": "7XUvJIs1jNXQ",
        "outputId": "a04a2021-aaa0-48d3-f0ba-f1846cd25e90"
      },
      "outputs": [
        {
          "output_type": "execute_result",
          "data": {
            "text/html": [
              "\n",
              "  <div id=\"df-a6721695-94e7-46ce-9159-385c6b490048\">\n",
              "    <div class=\"colab-df-container\">\n",
              "      <div>\n",
              "<style scoped>\n",
              "    .dataframe tbody tr th:only-of-type {\n",
              "        vertical-align: middle;\n",
              "    }\n",
              "\n",
              "    .dataframe tbody tr th {\n",
              "        vertical-align: top;\n",
              "    }\n",
              "\n",
              "    .dataframe thead th {\n",
              "        text-align: right;\n",
              "    }\n",
              "</style>\n",
              "<table border=\"1\" class=\"dataframe\">\n",
              "  <thead>\n",
              "    <tr style=\"text-align: right;\">\n",
              "      <th></th>\n",
              "      <th>id</th>\n",
              "      <th>target</th>\n",
              "    </tr>\n",
              "  </thead>\n",
              "  <tbody>\n",
              "    <tr>\n",
              "      <th>0</th>\n",
              "      <td>000bf832cae9ff1</td>\n",
              "      <td>0.5</td>\n",
              "    </tr>\n",
              "    <tr>\n",
              "      <th>1</th>\n",
              "      <td>000c74cc71a1140</td>\n",
              "      <td>0.5</td>\n",
              "    </tr>\n",
              "    <tr>\n",
              "      <th>2</th>\n",
              "      <td>000f5f9851161d3</td>\n",
              "      <td>0.5</td>\n",
              "    </tr>\n",
              "    <tr>\n",
              "      <th>3</th>\n",
              "      <td>000f7499e95aba6</td>\n",
              "      <td>0.5</td>\n",
              "    </tr>\n",
              "    <tr>\n",
              "      <th>4</th>\n",
              "      <td>00133ce6ec257f9</td>\n",
              "      <td>0.5</td>\n",
              "    </tr>\n",
              "  </tbody>\n",
              "</table>\n",
              "</div>\n",
              "      <button class=\"colab-df-convert\" onclick=\"convertToInteractive('df-a6721695-94e7-46ce-9159-385c6b490048')\"\n",
              "              title=\"Convert this dataframe to an interactive table.\"\n",
              "              style=\"display:none;\">\n",
              "        \n",
              "  <svg xmlns=\"http://www.w3.org/2000/svg\" height=\"24px\"viewBox=\"0 0 24 24\"\n",
              "       width=\"24px\">\n",
              "    <path d=\"M0 0h24v24H0V0z\" fill=\"none\"/>\n",
              "    <path d=\"M18.56 5.44l.94 2.06.94-2.06 2.06-.94-2.06-.94-.94-2.06-.94 2.06-2.06.94zm-11 1L8.5 8.5l.94-2.06 2.06-.94-2.06-.94L8.5 2.5l-.94 2.06-2.06.94zm10 10l.94 2.06.94-2.06 2.06-.94-2.06-.94-.94-2.06-.94 2.06-2.06.94z\"/><path d=\"M17.41 7.96l-1.37-1.37c-.4-.4-.92-.59-1.43-.59-.52 0-1.04.2-1.43.59L10.3 9.45l-7.72 7.72c-.78.78-.78 2.05 0 2.83L4 21.41c.39.39.9.59 1.41.59.51 0 1.02-.2 1.41-.59l7.78-7.78 2.81-2.81c.8-.78.8-2.07 0-2.86zM5.41 20L4 18.59l7.72-7.72 1.47 1.35L5.41 20z\"/>\n",
              "  </svg>\n",
              "      </button>\n",
              "      \n",
              "  <style>\n",
              "    .colab-df-container {\n",
              "      display:flex;\n",
              "      flex-wrap:wrap;\n",
              "      gap: 12px;\n",
              "    }\n",
              "\n",
              "    .colab-df-convert {\n",
              "      background-color: #E8F0FE;\n",
              "      border: none;\n",
              "      border-radius: 50%;\n",
              "      cursor: pointer;\n",
              "      display: none;\n",
              "      fill: #1967D2;\n",
              "      height: 32px;\n",
              "      padding: 0 0 0 0;\n",
              "      width: 32px;\n",
              "    }\n",
              "\n",
              "    .colab-df-convert:hover {\n",
              "      background-color: #E2EBFA;\n",
              "      box-shadow: 0px 1px 2px rgba(60, 64, 67, 0.3), 0px 1px 3px 1px rgba(60, 64, 67, 0.15);\n",
              "      fill: #174EA6;\n",
              "    }\n",
              "\n",
              "    [theme=dark] .colab-df-convert {\n",
              "      background-color: #3B4455;\n",
              "      fill: #D2E3FC;\n",
              "    }\n",
              "\n",
              "    [theme=dark] .colab-df-convert:hover {\n",
              "      background-color: #434B5C;\n",
              "      box-shadow: 0px 1px 3px 1px rgba(0, 0, 0, 0.15);\n",
              "      filter: drop-shadow(0px 1px 2px rgba(0, 0, 0, 0.3));\n",
              "      fill: #FFFFFF;\n",
              "    }\n",
              "  </style>\n",
              "\n",
              "      <script>\n",
              "        const buttonEl =\n",
              "          document.querySelector('#df-a6721695-94e7-46ce-9159-385c6b490048 button.colab-df-convert');\n",
              "        buttonEl.style.display =\n",
              "          google.colab.kernel.accessAllowed ? 'block' : 'none';\n",
              "\n",
              "        async function convertToInteractive(key) {\n",
              "          const element = document.querySelector('#df-a6721695-94e7-46ce-9159-385c6b490048');\n",
              "          const dataTable =\n",
              "            await google.colab.kernel.invokeFunction('convertToInteractive',\n",
              "                                                     [key], {});\n",
              "          if (!dataTable) return;\n",
              "\n",
              "          const docLinkHtml = 'Like what you see? Visit the ' +\n",
              "            '<a target=\"_blank\" href=https://colab.research.google.com/notebooks/data_table.ipynb>data table notebook</a>'\n",
              "            + ' to learn more about interactive tables.';\n",
              "          element.innerHTML = '';\n",
              "          dataTable['output_type'] = 'display_data';\n",
              "          await google.colab.output.renderOutput(dataTable, element);\n",
              "          const docLink = document.createElement('div');\n",
              "          docLink.innerHTML = docLinkHtml;\n",
              "          element.appendChild(docLink);\n",
              "        }\n",
              "      </script>\n",
              "    </div>\n",
              "  </div>\n",
              "  "
            ],
            "text/plain": [
              "                id  target\n",
              "0  000bf832cae9ff1     0.5\n",
              "1  000c74cc71a1140     0.5\n",
              "2  000f5f9851161d3     0.5\n",
              "3  000f7499e95aba6     0.5\n",
              "4  00133ce6ec257f9     0.5"
            ]
          },
          "metadata": {},
          "execution_count": 9
        }
      ],
      "source": [
        "df_test = pd.read_csv('sample_submission.csv')\n",
        "df_test.head()"
      ]
    },
    {
      "cell_type": "code",
      "execution_count": null,
      "metadata": {
        "colab": {
          "base_uri": "https://localhost:8080/"
        },
        "id": "kIf_KppPja2r",
        "outputId": "d93ce728-375f-489a-cbe5-7c8dd8e15cd1"
      },
      "outputs": [
        {
          "output_type": "execute_result",
          "data": {
            "text/plain": [
              "(39995, 2)"
            ]
          },
          "metadata": {},
          "execution_count": 10
        }
      ],
      "source": [
        "df_test.shape"
      ]
    },
    {
      "cell_type": "code",
      "execution_count": null,
      "metadata": {
        "colab": {
          "base_uri": "https://localhost:8080/"
        },
        "id": "OwoqJ4t2jdN7",
        "outputId": "b259ae26-fc91-43a8-964e-b46c85c2a5e3"
      },
      "outputs": [
        {
          "output_type": "stream",
          "name": "stdout",
          "text": [
            "<class 'pandas.core.frame.DataFrame'>\n",
            "RangeIndex: 39995 entries, 0 to 39994\n",
            "Data columns (total 2 columns):\n",
            " #   Column  Non-Null Count  Dtype  \n",
            "---  ------  --------------  -----  \n",
            " 0   id      39995 non-null  object \n",
            " 1   target  39995 non-null  float64\n",
            "dtypes: float64(1), object(1)\n",
            "memory usage: 625.0+ KB\n"
          ]
        }
      ],
      "source": [
        "df_test.info()"
      ]
    },
    {
      "cell_type": "markdown",
      "metadata": {
        "id": "0YIZ_HgRmPdu"
      },
      "source": [
        "# Feature Engineering\n",
        "\n",
        "Since there are no missing values to handle, collect the filepaths to each of the 60,000 train cadence snippets, and the 39,995 test cadence snippets, using `os.walk()`."
      ]
    },
    {
      "cell_type": "code",
      "execution_count": null,
      "metadata": {
        "colab": {
          "base_uri": "https://localhost:8080/"
        },
        "id": "7hsFAmo6jeKn",
        "outputId": "37c4a0ef-3832-4142-efef-8e41260d27a1"
      },
      "outputs": [
        {
          "output_type": "stream",
          "name": "stdout",
          "text": [
            "train: 60000\n",
            "test: 39995\n"
          ]
        }
      ],
      "source": [
        "train_filepaths, test_filepaths = [], []\n",
        "for root, dirs, files in os.walk('train'):\n",
        "  for filename in files:\n",
        "    train_filepaths.append(os.path.join(root, filename))\n",
        "for root, dirs, files in os.walk('test'):\n",
        "  for filename in files:\n",
        "    test_filepaths.append(os.path.join(root, filename))\n",
        "\n",
        "# Verify that we have the expected number of filepaths\n",
        "print(f'train: {len(train_filepaths)}\\ntest: {len(test_filepaths)}')"
      ]
    },
    {
      "cell_type": "markdown",
      "metadata": {
        "id": "FqmWD60h39f0"
      },
      "source": [
        "Construct a new `pd.DataFrame` with \"Filepath\" included alongside \"ID\" and \"Target\".\n"
      ]
    },
    {
      "cell_type": "code",
      "execution_count": null,
      "metadata": {
        "colab": {
          "base_uri": "https://localhost:8080/",
          "height": 116,
          "referenced_widgets": [
            "2c13b30bb7f94499bb4ea2a5b64a45ed",
            "4446976b02e8488890ecbfcb41367f9b",
            "f9d6b8541cf048a98de78d4284e1ef9b",
            "0c041e2b042c4b9f874f549c85bb83bf",
            "79e2f999500e4ace9ee3c3e80e753b41",
            "dd860644b53b4a818671fd8cec2c19d8",
            "ec15c0ee0d70418796df01afea7a472a",
            "e2c00e49211b4845b8c1e94525b29015",
            "a4017b2d61d04c21b0fb081a465da22e",
            "0281c5b81e354803bf41af80cfa5a768",
            "c2fea26aae2d4ba980205eba621c8cc9",
            "46340a4b09e44fdeba7998bcce648cf8",
            "9452600249f24668ad254a472796d142",
            "1d7b9cfa77e945b3bbbd69a59d63d886",
            "94e108726bc74804ad9bf340a231495b",
            "9964ea61561740f7b996040db698a9d2",
            "b84029e271724ef3bc75f32ca66146e7",
            "225cd1efcb5c443ea700c5f5229313fc",
            "50d1d16d40df4630a8673f66db19998d",
            "dbfd12b1bb2346359b79afc04f339a76",
            "208f3452f030433da78bfa67231d2bd6",
            "87aa582461684eb4bc92eec0cdb0c289"
          ]
        },
        "id": "Jom3NBt94U8H",
        "outputId": "05f5ddfb-da20-479f-8811-1bff4a59e22b"
      },
      "outputs": [
        {
          "output_type": "display_data",
          "data": {
            "application/vnd.jupyter.widget-view+json": {
              "model_id": "2c13b30bb7f94499bb4ea2a5b64a45ed",
              "version_minor": 0,
              "version_major": 2
            },
            "text/plain": [
              "  0%|          | 0/60000 [00:00<?, ?it/s]"
            ]
          },
          "metadata": {}
        },
        {
          "output_type": "display_data",
          "data": {
            "application/vnd.jupyter.widget-view+json": {
              "model_id": "46340a4b09e44fdeba7998bcce648cf8",
              "version_minor": 0,
              "version_major": 2
            },
            "text/plain": [
              "  0%|          | 0/39995 [00:00<?, ?it/s]"
            ]
          },
          "metadata": {}
        },
        {
          "output_type": "stream",
          "name": "stdout",
          "text": [
            "train: 60000, 60000\n",
            "test: 39995, 39995\n"
          ]
        }
      ],
      "source": [
        "# Strip the ID from each filepath\n",
        "train_id = [path[8:-4] for path in train_filepaths]\n",
        "test_id = [path[7:-4] for path in test_filepaths]\n",
        "\n",
        "# Look up target values from the previous DataFrame using ID values\n",
        "train_target = [df_train.loc[df_train['id'] == id]['target'].values[0] for _, id in tqdm(enumerate(train_id), total=len(train_id))]\n",
        "test_target = [df_test.loc[df_test['id'] == id]['target'].values[0] for _, id in tqdm(enumerate(test_id), total=len(test_id))]\n",
        "\n",
        "# Verify that we have the expected number of IDs and targets\n",
        "print(f'train: {len(train_id)}, {len(train_target)}\\ntest: {len(test_id)}, {len(test_target)}')"
      ]
    },
    {
      "cell_type": "code",
      "execution_count": null,
      "metadata": {
        "colab": {
          "base_uri": "https://localhost:8080/",
          "height": 206
        },
        "id": "aPJgqdyh6l-9",
        "outputId": "e4550ac0-5b58-4197-e70e-14faa3c79168"
      },
      "outputs": [
        {
          "output_type": "execute_result",
          "data": {
            "text/html": [
              "\n",
              "  <div id=\"df-aea3c364-18f8-4c87-b17b-5da09dfeeaa8\">\n",
              "    <div class=\"colab-df-container\">\n",
              "      <div>\n",
              "<style scoped>\n",
              "    .dataframe tbody tr th:only-of-type {\n",
              "        vertical-align: middle;\n",
              "    }\n",
              "\n",
              "    .dataframe tbody tr th {\n",
              "        vertical-align: top;\n",
              "    }\n",
              "\n",
              "    .dataframe thead th {\n",
              "        text-align: right;\n",
              "    }\n",
              "</style>\n",
              "<table border=\"1\" class=\"dataframe\">\n",
              "  <thead>\n",
              "    <tr style=\"text-align: right;\">\n",
              "      <th></th>\n",
              "      <th>Filepath</th>\n",
              "      <th>ID</th>\n",
              "      <th>Target</th>\n",
              "    </tr>\n",
              "  </thead>\n",
              "  <tbody>\n",
              "    <tr>\n",
              "      <th>0</th>\n",
              "      <td>train/d/db805c5b0201ffd.npy</td>\n",
              "      <td>db805c5b0201ffd</td>\n",
              "      <td>0</td>\n",
              "    </tr>\n",
              "    <tr>\n",
              "      <th>1</th>\n",
              "      <td>train/d/db72b5d462d6dd4.npy</td>\n",
              "      <td>db72b5d462d6dd4</td>\n",
              "      <td>0</td>\n",
              "    </tr>\n",
              "    <tr>\n",
              "      <th>2</th>\n",
              "      <td>train/d/db77389bd6ab27f.npy</td>\n",
              "      <td>db77389bd6ab27f</td>\n",
              "      <td>0</td>\n",
              "    </tr>\n",
              "    <tr>\n",
              "      <th>3</th>\n",
              "      <td>train/d/db7c72aad96f575.npy</td>\n",
              "      <td>db7c72aad96f575</td>\n",
              "      <td>0</td>\n",
              "    </tr>\n",
              "    <tr>\n",
              "      <th>4</th>\n",
              "      <td>train/d/db7ea5d75980af2.npy</td>\n",
              "      <td>db7ea5d75980af2</td>\n",
              "      <td>0</td>\n",
              "    </tr>\n",
              "  </tbody>\n",
              "</table>\n",
              "</div>\n",
              "      <button class=\"colab-df-convert\" onclick=\"convertToInteractive('df-aea3c364-18f8-4c87-b17b-5da09dfeeaa8')\"\n",
              "              title=\"Convert this dataframe to an interactive table.\"\n",
              "              style=\"display:none;\">\n",
              "        \n",
              "  <svg xmlns=\"http://www.w3.org/2000/svg\" height=\"24px\"viewBox=\"0 0 24 24\"\n",
              "       width=\"24px\">\n",
              "    <path d=\"M0 0h24v24H0V0z\" fill=\"none\"/>\n",
              "    <path d=\"M18.56 5.44l.94 2.06.94-2.06 2.06-.94-2.06-.94-.94-2.06-.94 2.06-2.06.94zm-11 1L8.5 8.5l.94-2.06 2.06-.94-2.06-.94L8.5 2.5l-.94 2.06-2.06.94zm10 10l.94 2.06.94-2.06 2.06-.94-2.06-.94-.94-2.06-.94 2.06-2.06.94z\"/><path d=\"M17.41 7.96l-1.37-1.37c-.4-.4-.92-.59-1.43-.59-.52 0-1.04.2-1.43.59L10.3 9.45l-7.72 7.72c-.78.78-.78 2.05 0 2.83L4 21.41c.39.39.9.59 1.41.59.51 0 1.02-.2 1.41-.59l7.78-7.78 2.81-2.81c.8-.78.8-2.07 0-2.86zM5.41 20L4 18.59l7.72-7.72 1.47 1.35L5.41 20z\"/>\n",
              "  </svg>\n",
              "      </button>\n",
              "      \n",
              "  <style>\n",
              "    .colab-df-container {\n",
              "      display:flex;\n",
              "      flex-wrap:wrap;\n",
              "      gap: 12px;\n",
              "    }\n",
              "\n",
              "    .colab-df-convert {\n",
              "      background-color: #E8F0FE;\n",
              "      border: none;\n",
              "      border-radius: 50%;\n",
              "      cursor: pointer;\n",
              "      display: none;\n",
              "      fill: #1967D2;\n",
              "      height: 32px;\n",
              "      padding: 0 0 0 0;\n",
              "      width: 32px;\n",
              "    }\n",
              "\n",
              "    .colab-df-convert:hover {\n",
              "      background-color: #E2EBFA;\n",
              "      box-shadow: 0px 1px 2px rgba(60, 64, 67, 0.3), 0px 1px 3px 1px rgba(60, 64, 67, 0.15);\n",
              "      fill: #174EA6;\n",
              "    }\n",
              "\n",
              "    [theme=dark] .colab-df-convert {\n",
              "      background-color: #3B4455;\n",
              "      fill: #D2E3FC;\n",
              "    }\n",
              "\n",
              "    [theme=dark] .colab-df-convert:hover {\n",
              "      background-color: #434B5C;\n",
              "      box-shadow: 0px 1px 3px 1px rgba(0, 0, 0, 0.15);\n",
              "      filter: drop-shadow(0px 1px 2px rgba(0, 0, 0, 0.3));\n",
              "      fill: #FFFFFF;\n",
              "    }\n",
              "  </style>\n",
              "\n",
              "      <script>\n",
              "        const buttonEl =\n",
              "          document.querySelector('#df-aea3c364-18f8-4c87-b17b-5da09dfeeaa8 button.colab-df-convert');\n",
              "        buttonEl.style.display =\n",
              "          google.colab.kernel.accessAllowed ? 'block' : 'none';\n",
              "\n",
              "        async function convertToInteractive(key) {\n",
              "          const element = document.querySelector('#df-aea3c364-18f8-4c87-b17b-5da09dfeeaa8');\n",
              "          const dataTable =\n",
              "            await google.colab.kernel.invokeFunction('convertToInteractive',\n",
              "                                                     [key], {});\n",
              "          if (!dataTable) return;\n",
              "\n",
              "          const docLinkHtml = 'Like what you see? Visit the ' +\n",
              "            '<a target=\"_blank\" href=https://colab.research.google.com/notebooks/data_table.ipynb>data table notebook</a>'\n",
              "            + ' to learn more about interactive tables.';\n",
              "          element.innerHTML = '';\n",
              "          dataTable['output_type'] = 'display_data';\n",
              "          await google.colab.output.renderOutput(dataTable, element);\n",
              "          const docLink = document.createElement('div');\n",
              "          docLink.innerHTML = docLinkHtml;\n",
              "          element.appendChild(docLink);\n",
              "        }\n",
              "      </script>\n",
              "    </div>\n",
              "  </div>\n",
              "  "
            ],
            "text/plain": [
              "                      Filepath               ID  Target\n",
              "0  train/d/db805c5b0201ffd.npy  db805c5b0201ffd       0\n",
              "1  train/d/db72b5d462d6dd4.npy  db72b5d462d6dd4       0\n",
              "2  train/d/db77389bd6ab27f.npy  db77389bd6ab27f       0\n",
              "3  train/d/db7c72aad96f575.npy  db7c72aad96f575       0\n",
              "4  train/d/db7ea5d75980af2.npy  db7ea5d75980af2       0"
            ]
          },
          "metadata": {},
          "execution_count": 14
        }
      ],
      "source": [
        "df_train = pd.DataFrame({'Filepath': train_filepaths,\n",
        "                         'ID': train_id,\n",
        "                         'Target': train_target})\n",
        "df_train.head()"
      ]
    },
    {
      "cell_type": "code",
      "execution_count": null,
      "metadata": {
        "colab": {
          "base_uri": "https://localhost:8080/",
          "height": 206
        },
        "id": "otoMzv6I_iVn",
        "outputId": "e5b4706b-6fc6-46fd-d9dd-a2225eb68d5e"
      },
      "outputs": [
        {
          "output_type": "execute_result",
          "data": {
            "text/html": [
              "\n",
              "  <div id=\"df-a161b65b-0f2c-4005-a478-5c027925962d\">\n",
              "    <div class=\"colab-df-container\">\n",
              "      <div>\n",
              "<style scoped>\n",
              "    .dataframe tbody tr th:only-of-type {\n",
              "        vertical-align: middle;\n",
              "    }\n",
              "\n",
              "    .dataframe tbody tr th {\n",
              "        vertical-align: top;\n",
              "    }\n",
              "\n",
              "    .dataframe thead th {\n",
              "        text-align: right;\n",
              "    }\n",
              "</style>\n",
              "<table border=\"1\" class=\"dataframe\">\n",
              "  <thead>\n",
              "    <tr style=\"text-align: right;\">\n",
              "      <th></th>\n",
              "      <th>Filepath</th>\n",
              "      <th>ID</th>\n",
              "      <th>Target</th>\n",
              "    </tr>\n",
              "  </thead>\n",
              "  <tbody>\n",
              "    <tr>\n",
              "      <th>0</th>\n",
              "      <td>test/9/99d159554adf56a.npy</td>\n",
              "      <td>99d159554adf56a</td>\n",
              "      <td>0.5</td>\n",
              "    </tr>\n",
              "    <tr>\n",
              "      <th>1</th>\n",
              "      <td>test/9/99b96f0033882f1.npy</td>\n",
              "      <td>99b96f0033882f1</td>\n",
              "      <td>0.5</td>\n",
              "    </tr>\n",
              "    <tr>\n",
              "      <th>2</th>\n",
              "      <td>test/9/99bce84b9aeb210.npy</td>\n",
              "      <td>99bce84b9aeb210</td>\n",
              "      <td>0.5</td>\n",
              "    </tr>\n",
              "    <tr>\n",
              "      <th>3</th>\n",
              "      <td>test/9/99c04284d16acf1.npy</td>\n",
              "      <td>99c04284d16acf1</td>\n",
              "      <td>0.5</td>\n",
              "    </tr>\n",
              "    <tr>\n",
              "      <th>4</th>\n",
              "      <td>test/9/99d7868c21e1ce1.npy</td>\n",
              "      <td>99d7868c21e1ce1</td>\n",
              "      <td>0.5</td>\n",
              "    </tr>\n",
              "  </tbody>\n",
              "</table>\n",
              "</div>\n",
              "      <button class=\"colab-df-convert\" onclick=\"convertToInteractive('df-a161b65b-0f2c-4005-a478-5c027925962d')\"\n",
              "              title=\"Convert this dataframe to an interactive table.\"\n",
              "              style=\"display:none;\">\n",
              "        \n",
              "  <svg xmlns=\"http://www.w3.org/2000/svg\" height=\"24px\"viewBox=\"0 0 24 24\"\n",
              "       width=\"24px\">\n",
              "    <path d=\"M0 0h24v24H0V0z\" fill=\"none\"/>\n",
              "    <path d=\"M18.56 5.44l.94 2.06.94-2.06 2.06-.94-2.06-.94-.94-2.06-.94 2.06-2.06.94zm-11 1L8.5 8.5l.94-2.06 2.06-.94-2.06-.94L8.5 2.5l-.94 2.06-2.06.94zm10 10l.94 2.06.94-2.06 2.06-.94-2.06-.94-.94-2.06-.94 2.06-2.06.94z\"/><path d=\"M17.41 7.96l-1.37-1.37c-.4-.4-.92-.59-1.43-.59-.52 0-1.04.2-1.43.59L10.3 9.45l-7.72 7.72c-.78.78-.78 2.05 0 2.83L4 21.41c.39.39.9.59 1.41.59.51 0 1.02-.2 1.41-.59l7.78-7.78 2.81-2.81c.8-.78.8-2.07 0-2.86zM5.41 20L4 18.59l7.72-7.72 1.47 1.35L5.41 20z\"/>\n",
              "  </svg>\n",
              "      </button>\n",
              "      \n",
              "  <style>\n",
              "    .colab-df-container {\n",
              "      display:flex;\n",
              "      flex-wrap:wrap;\n",
              "      gap: 12px;\n",
              "    }\n",
              "\n",
              "    .colab-df-convert {\n",
              "      background-color: #E8F0FE;\n",
              "      border: none;\n",
              "      border-radius: 50%;\n",
              "      cursor: pointer;\n",
              "      display: none;\n",
              "      fill: #1967D2;\n",
              "      height: 32px;\n",
              "      padding: 0 0 0 0;\n",
              "      width: 32px;\n",
              "    }\n",
              "\n",
              "    .colab-df-convert:hover {\n",
              "      background-color: #E2EBFA;\n",
              "      box-shadow: 0px 1px 2px rgba(60, 64, 67, 0.3), 0px 1px 3px 1px rgba(60, 64, 67, 0.15);\n",
              "      fill: #174EA6;\n",
              "    }\n",
              "\n",
              "    [theme=dark] .colab-df-convert {\n",
              "      background-color: #3B4455;\n",
              "      fill: #D2E3FC;\n",
              "    }\n",
              "\n",
              "    [theme=dark] .colab-df-convert:hover {\n",
              "      background-color: #434B5C;\n",
              "      box-shadow: 0px 1px 3px 1px rgba(0, 0, 0, 0.15);\n",
              "      filter: drop-shadow(0px 1px 2px rgba(0, 0, 0, 0.3));\n",
              "      fill: #FFFFFF;\n",
              "    }\n",
              "  </style>\n",
              "\n",
              "      <script>\n",
              "        const buttonEl =\n",
              "          document.querySelector('#df-a161b65b-0f2c-4005-a478-5c027925962d button.colab-df-convert');\n",
              "        buttonEl.style.display =\n",
              "          google.colab.kernel.accessAllowed ? 'block' : 'none';\n",
              "\n",
              "        async function convertToInteractive(key) {\n",
              "          const element = document.querySelector('#df-a161b65b-0f2c-4005-a478-5c027925962d');\n",
              "          const dataTable =\n",
              "            await google.colab.kernel.invokeFunction('convertToInteractive',\n",
              "                                                     [key], {});\n",
              "          if (!dataTable) return;\n",
              "\n",
              "          const docLinkHtml = 'Like what you see? Visit the ' +\n",
              "            '<a target=\"_blank\" href=https://colab.research.google.com/notebooks/data_table.ipynb>data table notebook</a>'\n",
              "            + ' to learn more about interactive tables.';\n",
              "          element.innerHTML = '';\n",
              "          dataTable['output_type'] = 'display_data';\n",
              "          await google.colab.output.renderOutput(dataTable, element);\n",
              "          const docLink = document.createElement('div');\n",
              "          docLink.innerHTML = docLinkHtml;\n",
              "          element.appendChild(docLink);\n",
              "        }\n",
              "      </script>\n",
              "    </div>\n",
              "  </div>\n",
              "  "
            ],
            "text/plain": [
              "                     Filepath               ID  Target\n",
              "0  test/9/99d159554adf56a.npy  99d159554adf56a     0.5\n",
              "1  test/9/99b96f0033882f1.npy  99b96f0033882f1     0.5\n",
              "2  test/9/99bce84b9aeb210.npy  99bce84b9aeb210     0.5\n",
              "3  test/9/99c04284d16acf1.npy  99c04284d16acf1     0.5\n",
              "4  test/9/99d7868c21e1ce1.npy  99d7868c21e1ce1     0.5"
            ]
          },
          "metadata": {},
          "execution_count": 15
        }
      ],
      "source": [
        "df_test = pd.DataFrame({'Filepath': test_filepaths,\n",
        "                        'ID': test_id,\n",
        "                        'Target': test_target})\n",
        "df_test.head()"
      ]
    },
    {
      "cell_type": "markdown",
      "metadata": {
        "id": "_UXNYTstsuvK"
      },
      "source": [
        "Finally, read in a single cadence snippet using `np.load()`, and check that its dimensions are indeed `(6, 273, 256)`."
      ]
    },
    {
      "cell_type": "code",
      "execution_count": null,
      "metadata": {
        "colab": {
          "base_uri": "https://localhost:8080/"
        },
        "id": "P6QZGER_tA33",
        "outputId": "307373e0-1559-4d90-e883-ce28375e127c"
      },
      "outputs": [
        {
          "output_type": "execute_result",
          "data": {
            "text/plain": [
              "(6, 273, 256)"
            ]
          },
          "metadata": {},
          "execution_count": 16
        }
      ],
      "source": [
        "ndarray = np.load(df_train['Filepath'][0])\n",
        "ndarray.shape"
      ]
    },
    {
      "cell_type": "markdown",
      "metadata": {
        "id": "nAVj06PZPcpQ"
      },
      "source": [
        "# Dataset & DataLoader\n",
        "\n",
        "Here we create a custom object with inheritance from PyTorch's `Dataset` class, to retrieve our data’s samples and corresponding labels, one at a time."
      ]
    },
    {
      "cell_type": "code",
      "execution_count": null,
      "metadata": {
        "id": "vL-t129uAie4"
      },
      "outputs": [],
      "source": [
        "class KaggleDataset(Dataset):\n",
        "  def __init__(self, \n",
        "               paths: List[str], \n",
        "               ids: List[str],\n",
        "               labels: List[int], \n",
        "               transform=None,\n",
        "               id_transform=None,\n",
        "               label_transform=None):\n",
        "    '''\n",
        "    The __init__ function is called when you instantiate the class.\n",
        "\n",
        "    Args:\n",
        "    - self: the instance of the class.\n",
        "    - paths: list of paths to the data, which are each cadence snippet files stored in np.float16 format, with dimensions (6, 273, 256).\n",
        "    - ids: list of snippet IDs to the cadence snippet files.\n",
        "    - labels: list of snippet labels to the cadence snippet files (1 if cadence contains a \"needle\", 0 if not).\n",
        "    - transform: optional transformation to be performed on a cadence snippet.\n",
        "    - id_transform: optional transformation to be performed on a snippet id.\n",
        "    - label_transform: optional transformation to be performed on a snippet label.\n",
        "    '''\n",
        "    self.paths = paths\n",
        "    self.ids = ids\n",
        "    self.labels = labels\n",
        "    self.transform = transform\n",
        "    self.id_transform = id_transform\n",
        "    self.label_transform = label_transform\n",
        "\n",
        "  def __len__(self) -> int:\n",
        "    '''\n",
        "    The __len__ function returns the number of samples in our dataset.\n",
        "    '''\n",
        "    return len(self.ids)\n",
        "\n",
        "  def __getitem__(self, \n",
        "                  idx: int) -> (np.array, str, int):\n",
        "    '''\n",
        "    The __getitem__ function loads a cadence snippet from the dataset at the given index,\n",
        "    retrieves the corresponding id and label, calls the transform functions on them (if provided), \n",
        "    and returns all three values as a tuple.\n",
        "    '''\n",
        "    ndarray = np.load(self.paths[idx])\n",
        "    id = self.ids[idx]\n",
        "    label = self.labels[idx]\n",
        "    if self.transform:\n",
        "      ndarray = self.transform(ndarray)\n",
        "    if self.id_transform:\n",
        "      id = self.id_transform(id)\n",
        "    if self.label_transform:\n",
        "      label = self.label_transform(label)\n",
        "    return ndarray, id, label"
      ]
    },
    {
      "cell_type": "code",
      "execution_count": null,
      "metadata": {
        "id": "dngA63KLPgdJ"
      },
      "outputs": [],
      "source": [
        "train_data = KaggleDataset(paths=df_train['Filepath'].tolist(), \n",
        "                           ids=df_train['ID'].tolist(),\n",
        "                           labels=df_train['Target'].tolist())\n",
        "test_data = KaggleDataset(paths=df_test['Filepath'].tolist(), \n",
        "                          ids=df_test['ID'].tolist(),\n",
        "                          labels=df_test['Target'].tolist())"
      ]
    },
    {
      "cell_type": "markdown",
      "metadata": {
        "id": "wQzdOwQ7WGL3"
      },
      "source": [
        "During training, we want to pass the cadence snippets in “minibatches”, reshuffle the data at every epoch to reduce model overfitting, and use Python’s `multiprocessing` to speed up data retrieval. `DataLoader` is an iterable that abstracts this complexity for us in an easy API."
      ]
    },
    {
      "cell_type": "code",
      "execution_count": null,
      "metadata": {
        "id": "74v2foJMRFUb"
      },
      "outputs": [],
      "source": [
        "train_dataloader = DataLoader(train_data, batch_size, shuffle=True)\n",
        "test_dataloader = DataLoader(test_data, batch_size, shuffle=True)"
      ]
    },
    {
      "cell_type": "markdown",
      "metadata": {
        "id": "U5TUNx650sRg"
      },
      "source": [
        "Now that we've loaded the data into the `DataLoader` and can iterate through the dataset as needed, each iteration below returns a batch of `train_snippets`, `train_ids`, and `train_labels` (containing `batch_size=4` snippets, IDs, and labels, respectively). Note that because we specified `shuffle=True`, after we iterate over all batches, the data is shuffled."
      ]
    },
    {
      "cell_type": "code",
      "execution_count": null,
      "metadata": {
        "colab": {
          "base_uri": "https://localhost:8080/"
        },
        "id": "PvRATuqM0vng",
        "outputId": "cc67932a-461a-4320-dd28-007a79e300b6"
      },
      "outputs": [
        {
          "output_type": "stream",
          "name": "stdout",
          "text": [
            "Snippets batch shape: torch.Size([16, 6, 273, 256])\n",
            "IDs batch shape: (16,)\n",
            "Labels batch shape: torch.Size([16])\n"
          ]
        }
      ],
      "source": [
        "# Since torch.Tensor doesn't support strings, train_ids is returned as a tuple, which we'll immediately convert into an ndarray\n",
        "train_snippets, train_ids, train_labels = next(iter(train_dataloader))\n",
        "train_ids = np.asarray(train_ids)\n",
        "\n",
        "# Verify that the dimensions are in agreement with expectations\n",
        "print(f'Snippets batch shape: {train_snippets.shape}')\n",
        "print(f'IDs batch shape: {train_ids.shape}')\n",
        "print(f'Labels batch shape: {train_labels.shape}')"
      ]
    },
    {
      "cell_type": "markdown",
      "metadata": {
        "id": "dAuVf8uCCvvo"
      },
      "source": [
        "Let's try visualizing one of the cadence snippets."
      ]
    },
    {
      "cell_type": "code",
      "execution_count": null,
      "metadata": {
        "id": "dmKh68S2Cyeq"
      },
      "outputs": [],
      "source": [
        "# Define function to plot samples (expected input: ndarray of shape [6, 273, 256] and dtype float32)\n",
        "def plot_cadence_snippet(cad_snippet, title=None):\n",
        "    cad_snippet = cad_snippet.astype('float32')\n",
        "    num_obs, h, w = cad_snippet.shape\n",
        "    fig, axes = plt.subplots(6, 1, figsize=(10, 5))\n",
        "    axes = axes.flatten()\n",
        "    if title:\n",
        "        fig.suptitle(title)\n",
        "    for i in range(6):\n",
        "        axes[i].imshow(cad_snippet[i])\n",
        "        axes[i].axis('off')\n",
        "        axes[i].set_aspect(\"auto\")\n",
        "    plt.show()"
      ]
    },
    {
      "cell_type": "code",
      "execution_count": null,
      "metadata": {
        "colab": {
          "base_uri": "https://localhost:8080/",
          "height": 339
        },
        "id": "3ZpPpnohC14_",
        "outputId": "0524f928-4cbc-474d-cb28-9273d4019099"
      },
      "outputs": [
        {
          "output_type": "display_data",
          "data": {
            "image/png": "[encoded data removed]",
            "text/plain": [
              "<Figure size 720x360 with 6 Axes>"
            ]
          },
          "metadata": {
            "needs_background": "light"
          }
        }
      ],
      "source": [
        "snippet, title = train_snippets[0].numpy(), f'ID: {train_ids[0]}, Target: {train_labels[0]}'\n",
        "plot_cadence_snippet(snippet, title)"
      ]
    },
    {
      "cell_type": "markdown",
      "source": [
        "# Input Embeddings\n",
        "\n",
        "The BERT model, as it was initially presented in [Devlin *et. al.* (2019)](https://arxiv.org/pdf/1810.04805.pdf), uses three different vector encodings to represent any given input: token, segment, and position embeddings. We'll assume that you're familiar with each of their purposes and functionalities, but if not, we recommend [this Medium article](https://medium.com/@_init_/why-bert-has-3-embedding-layers-and-their-implementation-details-9c261108e28a).\n",
        "\n"
      ],
      "metadata": {
        "id": "366DySPpagfq"
      }
    },
    {
      "cell_type": "code",
      "source": [
        "# self.pos_encoder = PositionalEncoding(d_model, dropout)\n",
        "# src = self.pos_encoder(src)\n",
        "class PositionalEncoding(nn.Module):\n",
        "  def __init__(self, \n",
        "               d_model: int = 256, \n",
        "               dropout: float = 0.1, \n",
        "               max_len: int = 1638):\n",
        "    super().__init__()\n",
        "    self.dropout = nn.Dropout(p=dropout)\n",
        "\n",
        "    position = torch.arange(max_len).unsqueeze(1)\n",
        "    div_term = torch.exp(torch.arange(0, d_model, 2) * (-math.log(10000.0) / d_model))\n",
        "    pe = torch.zeros(max_len, 1, d_model)\n",
        "    pe[:, 0, 0::2] = torch.sin(position * div_term)\n",
        "    pe[:, 0, 1::2] = torch.cos(position * div_term)\n",
        "    self.register_buffer('pe', pe)\n",
        "\n",
        "  def forward(self, \n",
        "              x: Tensor) -> Tensor:\n",
        "    '''\n",
        "    Args:\n",
        "    x: Tensor, shape [seq_len, batch_size, embedding_dim]\n",
        "    '''\n",
        "    x = x + self.pe[:x.size(0)]\n",
        "    return self.dropout(x)"
      ],
      "metadata": {
        "id": "pu37affkmJ7z"
      },
      "execution_count": null,
      "outputs": []
    },
    {
      "cell_type": "markdown",
      "metadata": {
        "id": "d57HaRVWtMvV"
      },
      "source": [
        "# Data Preprocessing\n",
        "\n",
        "For preprocessing, we perform the following transformations:\n",
        "\n",
        "\n",
        "*   Dimensionality reduction: since the BERT model only takes 2-dimensional inputs, we concatenate the cadence snippets pointing-wise, i.e. from `(6, 273, 256)` to `(1638, 256)`.\n",
        "\n"
      ]
    },
    {
      "cell_type": "code",
      "execution_count": null,
      "metadata": {
        "id": "xWKhnunqGNad"
      },
      "outputs": [],
      "source": [
        "def preprocessing(snippets: torch.Tensor,\n",
        "                  batch_size: int) -> torch.Tensor:\n",
        "  '''\n",
        "  Preprocessing for the Kaggle dataset, which consists of dimensionality reduction.\n",
        "\n",
        "  Args:\n",
        "  - snippets: a tensor of shape (batch_size, 1638, 256) that contains the cadence snippets.\n",
        "  - batch_size: the number of snippets we want to process at once.\n",
        "\n",
        "  Returns: \n",
        "  The preprocessed snippets.\n",
        "  '''\n",
        "  # Create a temporary tensor with the expected output size\n",
        "  tmp = torch.zeros(batch_size, 1638, 256)\n",
        "  # Loop over each snippet and apply the appropriate preprocessing steps\n",
        "  for idx, snippet in enumerate(snippets):\n",
        "    snippet = snippet.reshape((1638, 256))\n",
        "    # Save the result to the temporary tensor\n",
        "    tmp[idx] = snippet\n",
        "  return tmp"
      ]
    },
    {
      "cell_type": "code",
      "execution_count": null,
      "metadata": {
        "colab": {
          "base_uri": "https://localhost:8080/"
        },
        "id": "caaRJky1FYJJ",
        "outputId": "9287f74d-208c-4dde-e4fa-9dd178e88dcb"
      },
      "outputs": [
        {
          "output_type": "execute_result",
          "data": {
            "text/plain": [
              "torch.Size([16, 1638, 256])"
            ]
          },
          "metadata": {},
          "execution_count": 24
        }
      ],
      "source": [
        "# Apply the preprocessing steps to the cadence snippets\n",
        "train_snippets = preprocessing(train_snippets, batch_size)\n",
        "# Verify that the resulting dimensions are consistent with expectations\n",
        "train_snippets.shape"
      ]
    },
    {
      "cell_type": "markdown",
      "metadata": {
        "id": "16_0rjtnyebA"
      },
      "source": [
        "# Model Inference\n",
        "\n",
        "Using [HuggingFace](https://huggingface.co/docs/transformers/model_doc/bert#transformers.BertModel)'s pre-trained BERT model, we perform inference on the cadence snippets in batches."
      ]
    },
    {
      "cell_type": "code",
      "execution_count": null,
      "metadata": {
        "id": "MVkw7fr2yv6v"
      },
      "outputs": [],
      "source": [
        "# Initializing a custom BERT configuration, where the number of attention heads must be a multiple of the hidden size\n",
        "configuration = BertConfig(max_position_embeddings=1638, hidden_size=256, num_attention_heads=16)\n",
        "# Initializing a model from the custom BERT configuration\n",
        "model = BertModel(configuration)\n",
        "# Forward pass of the model\n",
        "outputs = model.forward(inputs_embeds=train_snippets)\n",
        "# Collect the final vector embeddings\n",
        "pooler_outputs = outputs.pooler_output\n",
        "# Verify that the resulting dimensions are as expected\n",
        "pooler_outputs.shape"
      ]
    },
    {
      "cell_type": "markdown",
      "metadata": {
        "id": "cfMo1uzgUGPe"
      },
      "source": [
        "All that's left is to feed in all of the available data into the model. With readibility in mind, we define a pipeline that includes the preprocessing, inference, and postprocessing steps."
      ]
    },
    {
      "cell_type": "code",
      "execution_count": null,
      "metadata": {
        "id": "Tc2F9nKhQ6dF"
      },
      "outputs": [],
      "source": [
        "def pipeline(data, model, batch_size, outpath):\n",
        "  '''\n",
        "  A pipeline to perform inference on the Kaggle dataset, consisting of preprocessing, inference, and postprocessing.\n",
        "\n",
        "  Args:\n",
        "  - data: the dataset to be used, which includes filepaths to the cadence snippets, and their corresponding IDs and labels\n",
        "  - model: the model that will be used for inference\n",
        "  - batch_size: the number of samples to be processed in parallel\n",
        "  - outpath: the path to the directory where the outputs will be saved\n",
        "  '''\n",
        "  # Load the data into the DataLoader\n",
        "  loader = DataLoader(data, batch_size, shuffle=True)\n",
        "  # Wrap an iterator around the DataLoader\n",
        "  iterator = iter(loader)\n",
        "  # Disable gradient calculations to free up memory\n",
        "  with torch.no_grad():\n",
        "    # Loop through the entire dataset, where if len(data) is not divisible by batch_size, the final iteration will have a reduced number of samples\n",
        "    for i in tqdm(range(math.ceil(len(data) / batch_size))):\n",
        "      # Read in the cadence snippets, as well as the corresponding IDs and labels\n",
        "      snippets, ids, labels = next(iterator)\n",
        "      # Convert the ids from a tuple to an ndarray\n",
        "      ids = np.asarray(ids)\n",
        "      # Perform preprocessing on the snippets\n",
        "      snippets = preprocessing(snippets, batch_size)\n",
        "      # Perform inference on the snippets from the forward pass of the model\n",
        "      outputs = model.forward(inputs_embeds=snippets)\n",
        "      # Collect the final vector embeddings\n",
        "      pooler_outputs = outputs.pooler_output\n",
        "      # Save the vectors as .npy files in a separate directory\n",
        "      for idx, val in enumerate(pooler_outputs):\n",
        "        np.save(f'{outpath}/{ids[idx][0]}/{ids[idx]}', val.detach().numpy())"
      ]
    },
    {
      "cell_type": "code",
      "execution_count": null,
      "metadata": {
        "id": "g5ICd8ynVNME"
      },
      "outputs": [],
      "source": [
        "pipeline(data=train_data, \n",
        "         model=model, \n",
        "         batch_size=batch_size, \n",
        "         outpath='Results/v2')"
      ]
    },
    {
      "cell_type": "markdown",
      "metadata": {
        "id": "ywbIJxAPdxkO"
      },
      "source": [
        "# Data Visualization\n",
        "\n",
        "We perform t-SNE ([t-distributed Stochastic Neighbor Embedding](https://en.wikipedia.org/wiki/T-distributed_stochastic_neighbor_embedding)) on the feature vectors to project them onto 2-dimensions, such that we can obtain a visualization of the model's latent space."
      ]
    },
    {
      "cell_type": "code",
      "execution_count": null,
      "metadata": {
        "id": "EXfghzvPf0Hd"
      },
      "outputs": [],
      "source": [
        "# Collect the paths to all of the files in our Results directory\n",
        "filepaths = []\n",
        "for root, dirs, files in os.walk('Results/v2'):\n",
        "  for filename in files:\n",
        "    filepaths.append(os.path.join(root, filename))\n",
        "\n",
        "# Load back in the data from the Results directory\n",
        "id = []\n",
        "data = np.ndarray((len(filepaths), 256))\n",
        "for _, path in tqdm(enumerate(filepaths), total=len(filepaths)):\n",
        "  id.append(path[13:-4])\n",
        "  np.append(data, np.load(path))\n",
        "\n",
        "# Create a separate list with aligning indices containing the labels to our data\n",
        "df = pd.read_csv('train_labels.csv')\n",
        "target = [df.loc[df['id'] == id]['target'].values[0] for _, id in tqdm(enumerate(id), total=len(id))]\n",
        "\n",
        "# Verify that the dimensions of our data are correct\n",
        "data.shape"
      ]
    },
    {
      "cell_type": "code",
      "execution_count": null,
      "metadata": {
        "id": "cgaCO-BDrDQF"
      },
      "outputs": [],
      "source": [
        "# Fit the t-SNE embedding to our data\n",
        "tsne = TSNE(n_components=2, verbose=1).fit_transform(data)\n",
        "\n",
        "# Verify that the dimensions are as expected\n",
        "tsne.shape"
      ]
    },
    {
      "cell_type": "code",
      "execution_count": null,
      "metadata": {
        "id": "_-rnOxrFhq63"
      },
      "outputs": [],
      "source": [
        "# Plot the result of our TSNE with the labels color-coded\n",
        "tsne_df = pd.DataFrame({'tsne_1': tsne[:, 0], \n",
        "                        'tsne_2': tsne[:, 1], \n",
        "                        'label': target})\n",
        "fig, ax = plt.subplots(1)\n",
        "sns.scatterplot(data=tsne_df, x='tsne_1', y='tsne_2', hue='label', style='label', markers=['+', 'x'], s=50, ax=ax)\n",
        "lim = (tsne.min() - 5, tsne.max() + 5)\n",
        "ax.set_xlim(lim)\n",
        "ax.set_ylim(lim)\n",
        "ax.set_aspect('equal')\n",
        "ax.legend(bbox_to_anchor=(1.05, 1), loc=2, borderaxespad=0.0)\n",
        "\n",
        "# Save the figure into a separate directory\n",
        "plt.savefig('Figures/BERT_tSNE_v2.png')"
      ]
    },
    {
      "cell_type": "markdown",
      "metadata": {
        "id": "pSM8UCTCqRSM"
      },
      "source": [
        "# Downstream Classification\n",
        "\n",
        "Finally, we feed the vectors into a downstream classifier, and evaluate model performance via their confusion matrices. Specifically, we train a decision tree and random forest model on the feature vectors from BERT."
      ]
    },
    {
      "cell_type": "code",
      "execution_count": null,
      "metadata": {
        "id": "VrHqhYTQuNWb"
      },
      "outputs": [],
      "source": [
        "# Split the data into training and validation (train/val split: 0.7/0.3)\n",
        "X_train, X_val, y_train, y_val = train_test_split(data, target, test_size=0.3)"
      ]
    },
    {
      "cell_type": "code",
      "execution_count": null,
      "metadata": {
        "id": "y-wBgUtvxUlQ"
      },
      "outputs": [],
      "source": [
        "# Initialize a decision tree with the default configurations\n",
        "decision_tree = DecisionTreeClassifier()\n",
        "# Train the model on the training data\n",
        "decision_tree.fit(X_train, y_train)\n",
        "# Make predictions on the validation data\n",
        "predictions = decision_tree.predict(X_val)\n",
        "# Calculate the model's classification accuracy\n",
        "accuracy = accuracy_score(y_val, predictions) * 100\n",
        "# Print the accuracy\n",
        "print(f'Decision tree classification accuracy: {accuracy:.3f}%')\n",
        "# Compute and display the confusion matrix\n",
        "ConfusionMatrixDisplay.from_predictions(y_val, predictions)\n",
        "# Save the matrix into a separate directory\n",
        "plt.savefig('Figures/tree_cmatrix_v2.png')"
      ]
    },
    {
      "cell_type": "code",
      "execution_count": null,
      "metadata": {
        "id": "dLqAFbBjxV57"
      },
      "outputs": [],
      "source": [
        "# Initialize a random forest ensemble with the default configurations\n",
        "random_forest = RandomForestClassifier(verbose=1)\n",
        "# Train the model on the training data\n",
        "random_forest.fit(X_train, y_train)\n",
        "# Make predictions on the validation data\n",
        "predictions = random_forest.predict(X_val)\n",
        "# Calculate the model's classification accuracy\n",
        "accuracy = accuracy_score(y_val, predictions) * 100\n",
        "# Print the accuracy\n",
        "print(f'Random forest classification accuracy: {accuracy:.3f}%')\n",
        "# Compute and display the confusion matrix\n",
        "ConfusionMatrixDisplay.from_predictions(y_val, predictions)\n",
        "# Save the matrix into a separate directory\n",
        "plt.savefig('Figures/forest_cmatrix_v2.png')"
      ]
    }
  ],
  "metadata": {
    "colab": {
      "background_execution": "on",
      "collapsed_sections": [],
      "machine_shape": "hm",
      "name": "Kaggle_BERT.ipynb",
      "toc_visible": true,
      "provenance": []
    },
    "kernelspec": {
      "display_name": "Python 3",
      "name": "python3"
    },
    "language_info": {
      "name": "python"
    },
    "widgets": {
      "application/vnd.jupyter.widget-state+json": {
        "2c13b30bb7f94499bb4ea2a5b64a45ed": {
          "model_module": "@jupyter-widgets/controls",
          "model_name": "HBoxModel",
          "model_module_version": "1.5.0",
          "state": {
            "_view_name": "HBoxView",
            "_dom_classes": [],
            "_model_name": "HBoxModel",
            "_view_module": "@jupyter-widgets/controls",
            "_model_module_version": "1.5.0",
            "_view_count": null,
            "_view_module_version": "1.5.0",
            "box_style": "",
            "layout": "IPY_MODEL_4446976b02e8488890ecbfcb41367f9b",
            "_model_module": "@jupyter-widgets/controls",
            "children": [
              "IPY_MODEL_f9d6b8541cf048a98de78d4284e1ef9b",
              "IPY_MODEL_0c041e2b042c4b9f874f549c85bb83bf",
              "IPY_MODEL_79e2f999500e4ace9ee3c3e80e753b41"
            ]
          }
        },
        "4446976b02e8488890ecbfcb41367f9b": {
          "model_module": "@jupyter-widgets/base",
          "model_name": "LayoutModel",
          "model_module_version": "1.2.0",
          "state": {
            "_view_name": "LayoutView",
            "grid_template_rows": null,
            "right": null,
            "justify_content": null,
            "_view_module": "@jupyter-widgets/base",
            "overflow": null,
            "_model_module_version": "1.2.0",
            "_view_count": null,
            "flex_flow": null,
            "width": null,
            "min_width": null,
            "border": null,
            "align_items": null,
            "bottom": null,
            "_model_module": "@jupyter-widgets/base",
            "top": null,
            "grid_column": null,
            "overflow_y": null,
            "overflow_x": null,
            "grid_auto_flow": null,
            "grid_area": null,
            "grid_template_columns": null,
            "flex": null,
            "_model_name": "LayoutModel",
            "justify_items": null,
            "grid_row": null,
            "max_height": null,
            "align_content": null,
            "visibility": null,
            "align_self": null,
            "height": null,
            "min_height": null,
            "padding": null,
            "grid_auto_rows": null,
            "grid_gap": null,
            "max_width": null,
            "order": null,
            "_view_module_version": "1.2.0",
            "grid_template_areas": null,
            "object_position": null,
            "object_fit": null,
            "grid_auto_columns": null,
            "margin": null,
            "display": null,
            "left": null
          }
        },
        "f9d6b8541cf048a98de78d4284e1ef9b": {
          "model_module": "@jupyter-widgets/controls",
          "model_name": "HTMLModel",
          "model_module_version": "1.5.0",
          "state": {
            "_view_name": "HTMLView",
            "style": "IPY_MODEL_dd860644b53b4a818671fd8cec2c19d8",
            "_dom_classes": [],
            "description": "",
            "_model_name": "HTMLModel",
            "placeholder": "​",
            "_view_module": "@jupyter-widgets/controls",
            "_model_module_version": "1.5.0",
            "value": "100%",
            "_view_count": null,
            "_view_module_version": "1.5.0",
            "description_tooltip": null,
            "_model_module": "@jupyter-widgets/controls",
            "layout": "IPY_MODEL_ec15c0ee0d70418796df01afea7a472a"
          }
        },
        "0c041e2b042c4b9f874f549c85bb83bf": {
          "model_module": "@jupyter-widgets/controls",
          "model_name": "FloatProgressModel",
          "model_module_version": "1.5.0",
          "state": {
            "_view_name": "ProgressView",
            "style": "IPY_MODEL_e2c00e49211b4845b8c1e94525b29015",
            "_dom_classes": [],
            "description": "",
            "_model_name": "FloatProgressModel",
            "bar_style": "success",
            "max": 60000,
            "_view_module": "@jupyter-widgets/controls",
            "_model_module_version": "1.5.0",
            "value": 60000,
            "_view_count": null,
            "_view_module_version": "1.5.0",
            "orientation": "horizontal",
            "min": 0,
            "description_tooltip": null,
            "_model_module": "@jupyter-widgets/controls",
            "layout": "IPY_MODEL_a4017b2d61d04c21b0fb081a465da22e"
          }
        },
        "79e2f999500e4ace9ee3c3e80e753b41": {
          "model_module": "@jupyter-widgets/controls",
          "model_name": "HTMLModel",
          "model_module_version": "1.5.0",
          "state": {
            "_view_name": "HTMLView",
            "style": "IPY_MODEL_0281c5b81e354803bf41af80cfa5a768",
            "_dom_classes": [],
            "description": "",
            "_model_name": "HTMLModel",
            "placeholder": "​",
            "_view_module": "@jupyter-widgets/controls",
            "_model_module_version": "1.5.0",
            "value": " 60000/60000 [03:27&lt;00:00, 295.22it/s]",
            "_view_count": null,
            "_view_module_version": "1.5.0",
            "description_tooltip": null,
            "_model_module": "@jupyter-widgets/controls",
            "layout": "IPY_MODEL_c2fea26aae2d4ba980205eba621c8cc9"
          }
        },
        "dd860644b53b4a818671fd8cec2c19d8": {
          "model_module": "@jupyter-widgets/controls",
          "model_name": "DescriptionStyleModel",
          "model_module_version": "1.5.0",
          "state": {
            "_view_name": "StyleView",
            "_model_name": "DescriptionStyleModel",
            "description_width": "",
            "_view_module": "@jupyter-widgets/base",
            "_model_module_version": "1.5.0",
            "_view_count": null,
            "_view_module_version": "1.2.0",
            "_model_module": "@jupyter-widgets/controls"
          }
        },
        "ec15c0ee0d70418796df01afea7a472a": {
          "model_module": "@jupyter-widgets/base",
          "model_name": "LayoutModel",
          "model_module_version": "1.2.0",
          "state": {
            "_view_name": "LayoutView",
            "grid_template_rows": null,
            "right": null,
            "justify_content": null,
            "_view_module": "@jupyter-widgets/base",
            "overflow": null,
            "_model_module_version": "1.2.0",
            "_view_count": null,
            "flex_flow": null,
            "width": null,
            "min_width": null,
            "border": null,
            "align_items": null,
            "bottom": null,
            "_model_module": "@jupyter-widgets/base",
            "top": null,
            "grid_column": null,
            "overflow_y": null,
            "overflow_x": null,
            "grid_auto_flow": null,
            "grid_area": null,
            "grid_template_columns": null,
            "flex": null,
            "_model_name": "LayoutModel",
            "justify_items": null,
            "grid_row": null,
            "max_height": null,
            "align_content": null,
            "visibility": null,
            "align_self": null,
            "height": null,
            "min_height": null,
            "padding": null,
            "grid_auto_rows": null,
            "grid_gap": null,
            "max_width": null,
            "order": null,
            "_view_module_version": "1.2.0",
            "grid_template_areas": null,
            "object_position": null,
            "object_fit": null,
            "grid_auto_columns": null,
            "margin": null,
            "display": null,
            "left": null
          }
        },
        "e2c00e49211b4845b8c1e94525b29015": {
          "model_module": "@jupyter-widgets/controls",
          "model_name": "ProgressStyleModel",
          "model_module_version": "1.5.0",
          "state": {
            "_view_name": "StyleView",
            "_model_name": "ProgressStyleModel",
            "description_width": "",
            "_view_module": "@jupyter-widgets/base",
            "_model_module_version": "1.5.0",
            "_view_count": null,
            "_view_module_version": "1.2.0",
            "bar_color": null,
            "_model_module": "@jupyter-widgets/controls"
          }
        },
        "a4017b2d61d04c21b0fb081a465da22e": {
          "model_module": "@jupyter-widgets/base",
          "model_name": "LayoutModel",
          "model_module_version": "1.2.0",
          "state": {
            "_view_name": "LayoutView",
            "grid_template_rows": null,
            "right": null,
            "justify_content": null,
            "_view_module": "@jupyter-widgets/base",
            "overflow": null,
            "_model_module_version": "1.2.0",
            "_view_count": null,
            "flex_flow": null,
            "width": null,
            "min_width": null,
            "border": null,
            "align_items": null,
            "bottom": null,
            "_model_module": "@jupyter-widgets/base",
            "top": null,
            "grid_column": null,
            "overflow_y": null,
            "overflow_x": null,
            "grid_auto_flow": null,
            "grid_area": null,
            "grid_template_columns": null,
            "flex": null,
            "_model_name": "LayoutModel",
            "justify_items": null,
            "grid_row": null,
            "max_height": null,
            "align_content": null,
            "visibility": null,
            "align_self": null,
            "height": null,
            "min_height": null,
            "padding": null,
            "grid_auto_rows": null,
            "grid_gap": null,
            "max_width": null,
            "order": null,
            "_view_module_version": "1.2.0",
            "grid_template_areas": null,
            "object_position": null,
            "object_fit": null,
            "grid_auto_columns": null,
            "margin": null,
            "display": null,
            "left": null
          }
        },
        "0281c5b81e354803bf41af80cfa5a768": {
          "model_module": "@jupyter-widgets/controls",
          "model_name": "DescriptionStyleModel",
          "model_module_version": "1.5.0",
          "state": {
            "_view_name": "StyleView",
            "_model_name": "DescriptionStyleModel",
            "description_width": "",
            "_view_module": "@jupyter-widgets/base",
            "_model_module_version": "1.5.0",
            "_view_count": null,
            "_view_module_version": "1.2.0",
            "_model_module": "@jupyter-widgets/controls"
          }
        },
        "c2fea26aae2d4ba980205eba621c8cc9": {
          "model_module": "@jupyter-widgets/base",
          "model_name": "LayoutModel",
          "model_module_version": "1.2.0",
          "state": {
            "_view_name": "LayoutView",
            "grid_template_rows": null,
            "right": null,
            "justify_content": null,
            "_view_module": "@jupyter-widgets/base",
            "overflow": null,
            "_model_module_version": "1.2.0",
            "_view_count": null,
            "flex_flow": null,
            "width": null,
            "min_width": null,
            "border": null,
            "align_items": null,
            "bottom": null,
            "_model_module": "@jupyter-widgets/base",
            "top": null,
            "grid_column": null,
            "overflow_y": null,
            "overflow_x": null,
            "grid_auto_flow": null,
            "grid_area": null,
            "grid_template_columns": null,
            "flex": null,
            "_model_name": "LayoutModel",
            "justify_items": null,
            "grid_row": null,
            "max_height": null,
            "align_content": null,
            "visibility": null,
            "align_self": null,
            "height": null,
            "min_height": null,
            "padding": null,
            "grid_auto_rows": null,
            "grid_gap": null,
            "max_width": null,
            "order": null,
            "_view_module_version": "1.2.0",
            "grid_template_areas": null,
            "object_position": null,
            "object_fit": null,
            "grid_auto_columns": null,
            "margin": null,
            "display": null,
            "left": null
          }
        },
        "46340a4b09e44fdeba7998bcce648cf8": {
          "model_module": "@jupyter-widgets/controls",
          "model_name": "HBoxModel",
          "model_module_version": "1.5.0",
          "state": {
            "_view_name": "HBoxView",
            "_dom_classes": [],
            "_model_name": "HBoxModel",
            "_view_module": "@jupyter-widgets/controls",
            "_model_module_version": "1.5.0",
            "_view_count": null,
            "_view_module_version": "1.5.0",
            "box_style": "",
            "layout": "IPY_MODEL_9452600249f24668ad254a472796d142",
            "_model_module": "@jupyter-widgets/controls",
            "children": [
              "IPY_MODEL_1d7b9cfa77e945b3bbbd69a59d63d886",
              "IPY_MODEL_94e108726bc74804ad9bf340a231495b",
              "IPY_MODEL_9964ea61561740f7b996040db698a9d2"
            ]
          }
        },
        "9452600249f24668ad254a472796d142": {
          "model_module": "@jupyter-widgets/base",
          "model_name": "LayoutModel",
          "model_module_version": "1.2.0",
          "state": {
            "_view_name": "LayoutView",
            "grid_template_rows": null,
            "right": null,
            "justify_content": null,
            "_view_module": "@jupyter-widgets/base",
            "overflow": null,
            "_model_module_version": "1.2.0",
            "_view_count": null,
            "flex_flow": null,
            "width": null,
            "min_width": null,
            "border": null,
            "align_items": null,
            "bottom": null,
            "_model_module": "@jupyter-widgets/base",
            "top": null,
            "grid_column": null,
            "overflow_y": null,
            "overflow_x": null,
            "grid_auto_flow": null,
            "grid_area": null,
            "grid_template_columns": null,
            "flex": null,
            "_model_name": "LayoutModel",
            "justify_items": null,
            "grid_row": null,
            "max_height": null,
            "align_content": null,
            "visibility": null,
            "align_self": null,
            "height": null,
            "min_height": null,
            "padding": null,
            "grid_auto_rows": null,
            "grid_gap": null,
            "max_width": null,
            "order": null,
            "_view_module_version": "1.2.0",
            "grid_template_areas": null,
            "object_position": null,
            "object_fit": null,
            "grid_auto_columns": null,
            "margin": null,
            "display": null,
            "left": null
          }
        },
        "1d7b9cfa77e945b3bbbd69a59d63d886": {
          "model_module": "@jupyter-widgets/controls",
          "model_name": "HTMLModel",
          "model_module_version": "1.5.0",
          "state": {
            "_view_name": "HTMLView",
            "style": "IPY_MODEL_b84029e271724ef3bc75f32ca66146e7",
            "_dom_classes": [],
            "description": "",
            "_model_name": "HTMLModel",
            "placeholder": "​",
            "_view_module": "@jupyter-widgets/controls",
            "_model_module_version": "1.5.0",
            "value": "100%",
            "_view_count": null,
            "_view_module_version": "1.5.0",
            "description_tooltip": null,
            "_model_module": "@jupyter-widgets/controls",
            "layout": "IPY_MODEL_225cd1efcb5c443ea700c5f5229313fc"
          }
        },
        "94e108726bc74804ad9bf340a231495b": {
          "model_module": "@jupyter-widgets/controls",
          "model_name": "FloatProgressModel",
          "model_module_version": "1.5.0",
          "state": {
            "_view_name": "ProgressView",
            "style": "IPY_MODEL_50d1d16d40df4630a8673f66db19998d",
            "_dom_classes": [],
            "description": "",
            "_model_name": "FloatProgressModel",
            "bar_style": "success",
            "max": 39995,
            "_view_module": "@jupyter-widgets/controls",
            "_model_module_version": "1.5.0",
            "value": 39995,
            "_view_count": null,
            "_view_module_version": "1.5.0",
            "orientation": "horizontal",
            "min": 0,
            "description_tooltip": null,
            "_model_module": "@jupyter-widgets/controls",
            "layout": "IPY_MODEL_dbfd12b1bb2346359b79afc04f339a76"
          }
        },
        "9964ea61561740f7b996040db698a9d2": {
          "model_module": "@jupyter-widgets/controls",
          "model_name": "HTMLModel",
          "model_module_version": "1.5.0",
          "state": {
            "_view_name": "HTMLView",
            "style": "IPY_MODEL_208f3452f030433da78bfa67231d2bd6",
            "_dom_classes": [],
            "description": "",
            "_model_name": "HTMLModel",
            "placeholder": "​",
            "_view_module": "@jupyter-widgets/controls",
            "_model_module_version": "1.5.0",
            "value": " 39995/39995 [01:38&lt;00:00, 404.85it/s]",
            "_view_count": null,
            "_view_module_version": "1.5.0",
            "description_tooltip": null,
            "_model_module": "@jupyter-widgets/controls",
            "layout": "IPY_MODEL_87aa582461684eb4bc92eec0cdb0c289"
          }
        },
        "b84029e271724ef3bc75f32ca66146e7": {
          "model_module": "@jupyter-widgets/controls",
          "model_name": "DescriptionStyleModel",
          "model_module_version": "1.5.0",
          "state": {
            "_view_name": "StyleView",
            "_model_name": "DescriptionStyleModel",
            "description_width": "",
            "_view_module": "@jupyter-widgets/base",
            "_model_module_version": "1.5.0",
            "_view_count": null,
            "_view_module_version": "1.2.0",
            "_model_module": "@jupyter-widgets/controls"
          }
        },
        "225cd1efcb5c443ea700c5f5229313fc": {
          "model_module": "@jupyter-widgets/base",
          "model_name": "LayoutModel",
          "model_module_version": "1.2.0",
          "state": {
            "_view_name": "LayoutView",
            "grid_template_rows": null,
            "right": null,
            "justify_content": null,
            "_view_module": "@jupyter-widgets/base",
            "overflow": null,
            "_model_module_version": "1.2.0",
            "_view_count": null,
            "flex_flow": null,
            "width": null,
            "min_width": null,
            "border": null,
            "align_items": null,
            "bottom": null,
            "_model_module": "@jupyter-widgets/base",
            "top": null,
            "grid_column": null,
            "overflow_y": null,
            "overflow_x": null,
            "grid_auto_flow": null,
            "grid_area": null,
            "grid_template_columns": null,
            "flex": null,
            "_model_name": "LayoutModel",
            "justify_items": null,
            "grid_row": null,
            "max_height": null,
            "align_content": null,
            "visibility": null,
            "align_self": null,
            "height": null,
            "min_height": null,
            "padding": null,
            "grid_auto_rows": null,
            "grid_gap": null,
            "max_width": null,
            "order": null,
            "_view_module_version": "1.2.0",
            "grid_template_areas": null,
            "object_position": null,
            "object_fit": null,
            "grid_auto_columns": null,
            "margin": null,
            "display": null,
            "left": null
          }
        },
        "50d1d16d40df4630a8673f66db19998d": {
          "model_module": "@jupyter-widgets/controls",
          "model_name": "ProgressStyleModel",
          "model_module_version": "1.5.0",
          "state": {
            "_view_name": "StyleView",
            "_model_name": "ProgressStyleModel",
            "description_width": "",
            "_view_module": "@jupyter-widgets/base",
            "_model_module_version": "1.5.0",
            "_view_count": null,
            "_view_module_version": "1.2.0",
            "bar_color": null,
            "_model_module": "@jupyter-widgets/controls"
          }
        },
        "dbfd12b1bb2346359b79afc04f339a76": {
          "model_module": "@jupyter-widgets/base",
          "model_name": "LayoutModel",
          "model_module_version": "1.2.0",
          "state": {
            "_view_name": "LayoutView",
            "grid_template_rows": null,
            "right": null,
            "justify_content": null,
            "_view_module": "@jupyter-widgets/base",
            "overflow": null,
            "_model_module_version": "1.2.0",
            "_view_count": null,
            "flex_flow": null,
            "width": null,
            "min_width": null,
            "border": null,
            "align_items": null,
            "bottom": null,
            "_model_module": "@jupyter-widgets/base",
            "top": null,
            "grid_column": null,
            "overflow_y": null,
            "overflow_x": null,
            "grid_auto_flow": null,
            "grid_area": null,
            "grid_template_columns": null,
            "flex": null,
            "_model_name": "LayoutModel",
            "justify_items": null,
            "grid_row": null,
            "max_height": null,
            "align_content": null,
            "visibility": null,
            "align_self": null,
            "height": null,
            "min_height": null,
            "padding": null,
            "grid_auto_rows": null,
            "grid_gap": null,
            "max_width": null,
            "order": null,
            "_view_module_version": "1.2.0",
            "grid_template_areas": null,
            "object_position": null,
            "object_fit": null,
            "grid_auto_columns": null,
            "margin": null,
            "display": null,
            "left": null
          }
        },
        "208f3452f030433da78bfa67231d2bd6": {
          "model_module": "@jupyter-widgets/controls",
          "model_name": "DescriptionStyleModel",
          "model_module_version": "1.5.0",
          "state": {
            "_view_name": "StyleView",
            "_model_name": "DescriptionStyleModel",
            "description_width": "",
            "_view_module": "@jupyter-widgets/base",
            "_model_module_version": "1.5.0",
            "_view_count": null,
            "_view_module_version": "1.2.0",
            "_model_module": "@jupyter-widgets/controls"
          }
        },
        "87aa582461684eb4bc92eec0cdb0c289": {
          "model_module": "@jupyter-widgets/base",
          "model_name": "LayoutModel",
          "model_module_version": "1.2.0",
          "state": {
            "_view_name": "LayoutView",
            "grid_template_rows": null,
            "right": null,
            "justify_content": null,
            "_view_module": "@jupyter-widgets/base",
            "overflow": null,
            "_model_module_version": "1.2.0",
            "_view_count": null,
            "flex_flow": null,
            "width": null,
            "min_width": null,
            "border": null,
            "align_items": null,
            "bottom": null,
            "_model_module": "@jupyter-widgets/base",
            "top": null,
            "grid_column": null,
            "overflow_y": null,
            "overflow_x": null,
            "grid_auto_flow": null,
            "grid_area": null,
            "grid_template_columns": null,
            "flex": null,
            "_model_name": "LayoutModel",
            "justify_items": null,
            "grid_row": null,
            "max_height": null,
            "align_content": null,
            "visibility": null,
            "align_self": null,
            "height": null,
            "min_height": null,
            "padding": null,
            "grid_auto_rows": null,
            "grid_gap": null,
            "max_width": null,
            "order": null,
            "_view_module_version": "1.2.0",
            "grid_template_areas": null,
            "object_position": null,
            "object_fit": null,
            "grid_auto_columns": null,
            "margin": null,
            "display": null,
            "left": null
          }
        }
      }
    }
  },
  "nbformat": 4,
  "nbformat_minor": 0
}